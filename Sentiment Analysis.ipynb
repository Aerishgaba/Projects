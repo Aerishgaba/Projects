{
 "cells": [
  {
   "cell_type": "code",
   "execution_count": 15,
   "metadata": {},
   "outputs": [],
   "source": [
    "import numpy as np\n",
    "import pandas as pd\n",
    "import praw"
   ]
  },
  {
   "cell_type": "markdown",
   "metadata": {},
   "source": [
    "**Scraping Data From Reddit's API**"
   ]
  },
  {
   "cell_type": "code",
   "execution_count": 16,
   "metadata": {},
   "outputs": [],
   "source": [
    "reddit = praw.Reddit(client_id='dVW7oz_k5fjEL052hXTDHg', \n",
    "                    client_secret='5tyAIKHGTNw66VcqudZgd0D6zGpvCg', \n",
    "                    user_agent='Smooth-Big7710')"
   ]
  },
  {
   "cell_type": "markdown",
   "metadata": {},
   "source": [
    "**Getting 1000 posts on FINANCE and converting it into data frame**"
   ]
  },
  {
   "cell_type": "code",
   "execution_count": 17,
   "metadata": {},
   "outputs": [],
   "source": [
    "# Get the top 1000 posts from the subreddit\n",
    "subreddit = reddit.subreddit('Finance')\n",
    "top_subreddit_finance = subreddit.top(limit=1000)\n",
    "\n",
    "# Create a dictionary to store the data\n",
    "topics_dict = { \"title\":[], \\\n",
    "                \"score\":[], \\\n",
    "                \"id\":[], \\\n",
    "                \"url\":[], \\\n",
    "                \"comms_num\": [], \\\n",
    "                \"created\": [], \\\n",
    "                \"body\":[]}\n",
    "\n",
    "\n",
    "# Loop through the top 1000 posts and store the data in the dictionary\n",
    "for submission in top_subreddit_finance:\n",
    "    topics_dict[\"title\"].append(submission.title)\n",
    "    topics_dict[\"score\"].append(submission.score)\n",
    "    topics_dict[\"id\"].append(submission.id)\n",
    "    topics_dict[\"url\"].append(submission.url)\n",
    "    topics_dict[\"comms_num\"].append(submission.num_comments)\n",
    "    topics_dict[\"created\"].append(submission.created)\n",
    "    topics_dict[\"body\"].append(submission.selftext)\n",
    "\n",
    "\n",
    "# Convert the dictionary to a dataframe\n",
    "topics_data = pd.DataFrame(topics_dict)\n"
   ]
  },
  {
   "cell_type": "code",
   "execution_count": 18,
   "metadata": {},
   "outputs": [
    {
     "data": {
      "text/html": [
       "<div>\n",
       "<style scoped>\n",
       "    .dataframe tbody tr th:only-of-type {\n",
       "        vertical-align: middle;\n",
       "    }\n",
       "\n",
       "    .dataframe tbody tr th {\n",
       "        vertical-align: top;\n",
       "    }\n",
       "\n",
       "    .dataframe thead th {\n",
       "        text-align: right;\n",
       "    }\n",
       "</style>\n",
       "<table border=\"1\" class=\"dataframe\">\n",
       "  <thead>\n",
       "    <tr style=\"text-align: right;\">\n",
       "      <th></th>\n",
       "      <th>title</th>\n",
       "      <th>score</th>\n",
       "      <th>id</th>\n",
       "      <th>url</th>\n",
       "      <th>comms_num</th>\n",
       "      <th>created</th>\n",
       "      <th>body</th>\n",
       "    </tr>\n",
       "  </thead>\n",
       "  <tbody>\n",
       "    <tr>\n",
       "      <th>0</th>\n",
       "      <td>Bipartisan bill would ban lawmakers from buyin...</td>\n",
       "      <td>11912</td>\n",
       "      <td>lx09gp</td>\n",
       "      <td>https://thehill.com/policy/finance/541425-bipa...</td>\n",
       "      <td>301</td>\n",
       "      <td>1.614795e+09</td>\n",
       "      <td></td>\n",
       "    </tr>\n",
       "    <tr>\n",
       "      <th>1</th>\n",
       "      <td>Wall st short-sellers lost $1.6 billion in a s...</td>\n",
       "      <td>7744</td>\n",
       "      <td>l5lcy8</td>\n",
       "      <td>https://markets.businessinsider.com/news/stock...</td>\n",
       "      <td>636</td>\n",
       "      <td>1.611689e+09</td>\n",
       "      <td></td>\n",
       "    </tr>\n",
       "    <tr>\n",
       "      <th>2</th>\n",
       "      <td>Robinhood, Interactive Brokers restrict tradin...</td>\n",
       "      <td>6012</td>\n",
       "      <td>l6xt5u</td>\n",
       "      <td>https://www.cnbc.com/2021/01/28/robinhood-inte...</td>\n",
       "      <td>504</td>\n",
       "      <td>1.611844e+09</td>\n",
       "      <td></td>\n",
       "    </tr>\n",
       "    <tr>\n",
       "      <th>3</th>\n",
       "      <td>U.S. Airlines Ask for Bailout as They Spent 96...</td>\n",
       "      <td>4429</td>\n",
       "      <td>fjxdp2</td>\n",
       "      <td>https://www.bloomberg.com/news/articles/2020-0...</td>\n",
       "      <td>698</td>\n",
       "      <td>1.584412e+09</td>\n",
       "      <td></td>\n",
       "    </tr>\n",
       "    <tr>\n",
       "      <th>4</th>\n",
       "      <td>AP News: Live updates: European Union freezes ...</td>\n",
       "      <td>4209</td>\n",
       "      <td>t19d1e</td>\n",
       "      <td>https://apnews.com/article/russia-ukraine-busi...</td>\n",
       "      <td>199</td>\n",
       "      <td>1.645810e+09</td>\n",
       "      <td></td>\n",
       "    </tr>\n",
       "    <tr>\n",
       "      <th>...</th>\n",
       "      <td>...</td>\n",
       "      <td>...</td>\n",
       "      <td>...</td>\n",
       "      <td>...</td>\n",
       "      <td>...</td>\n",
       "      <td>...</td>\n",
       "      <td>...</td>\n",
       "    </tr>\n",
       "    <tr>\n",
       "      <th>973</th>\n",
       "      <td>Credit Suisse Bet So Much on Archegos for So L...</td>\n",
       "      <td>343</td>\n",
       "      <td>owbr79</td>\n",
       "      <td>https://www.bloomberg.com/opinion/articles/202...</td>\n",
       "      <td>33</td>\n",
       "      <td>1.627900e+09</td>\n",
       "      <td></td>\n",
       "    </tr>\n",
       "    <tr>\n",
       "      <th>974</th>\n",
       "      <td>The world's top hedge fund so far in 2019 has ...</td>\n",
       "      <td>346</td>\n",
       "      <td>cw7v9x</td>\n",
       "      <td>https://markets.businessinsider.com/news/stock...</td>\n",
       "      <td>55</td>\n",
       "      <td>1.566928e+09</td>\n",
       "      <td></td>\n",
       "    </tr>\n",
       "    <tr>\n",
       "      <th>975</th>\n",
       "      <td>Fascinating chart showing the strong correlati...</td>\n",
       "      <td>348</td>\n",
       "      <td>3iil5e</td>\n",
       "      <td>https://twitter.com/DLin71/status/636397462190...</td>\n",
       "      <td>26</td>\n",
       "      <td>1.440624e+09</td>\n",
       "      <td></td>\n",
       "    </tr>\n",
       "    <tr>\n",
       "      <th>976</th>\n",
       "      <td>ECB's Lagarde says price stability priority be...</td>\n",
       "      <td>348</td>\n",
       "      <td>xfmtrc</td>\n",
       "      <td>https://www.reuters.com/markets/europe/ecbs-la...</td>\n",
       "      <td>54</td>\n",
       "      <td>1.663321e+09</td>\n",
       "      <td></td>\n",
       "    </tr>\n",
       "    <tr>\n",
       "      <th>977</th>\n",
       "      <td>China Weighs Unprecedented Penalty for Didi Af...</td>\n",
       "      <td>343</td>\n",
       "      <td>opfsua</td>\n",
       "      <td>https://www.bloomberg.com/news/articles/2021-0...</td>\n",
       "      <td>70</td>\n",
       "      <td>1.626967e+09</td>\n",
       "      <td></td>\n",
       "    </tr>\n",
       "  </tbody>\n",
       "</table>\n",
       "<p>978 rows × 7 columns</p>\n",
       "</div>"
      ],
      "text/plain": [
       "                                                 title  score      id  \\\n",
       "0    Bipartisan bill would ban lawmakers from buyin...  11912  lx09gp   \n",
       "1    Wall st short-sellers lost $1.6 billion in a s...   7744  l5lcy8   \n",
       "2    Robinhood, Interactive Brokers restrict tradin...   6012  l6xt5u   \n",
       "3    U.S. Airlines Ask for Bailout as They Spent 96...   4429  fjxdp2   \n",
       "4    AP News: Live updates: European Union freezes ...   4209  t19d1e   \n",
       "..                                                 ...    ...     ...   \n",
       "973  Credit Suisse Bet So Much on Archegos for So L...    343  owbr79   \n",
       "974  The world's top hedge fund so far in 2019 has ...    346  cw7v9x   \n",
       "975  Fascinating chart showing the strong correlati...    348  3iil5e   \n",
       "976  ECB's Lagarde says price stability priority be...    348  xfmtrc   \n",
       "977  China Weighs Unprecedented Penalty for Didi Af...    343  opfsua   \n",
       "\n",
       "                                                   url  comms_num  \\\n",
       "0    https://thehill.com/policy/finance/541425-bipa...        301   \n",
       "1    https://markets.businessinsider.com/news/stock...        636   \n",
       "2    https://www.cnbc.com/2021/01/28/robinhood-inte...        504   \n",
       "3    https://www.bloomberg.com/news/articles/2020-0...        698   \n",
       "4    https://apnews.com/article/russia-ukraine-busi...        199   \n",
       "..                                                 ...        ...   \n",
       "973  https://www.bloomberg.com/opinion/articles/202...         33   \n",
       "974  https://markets.businessinsider.com/news/stock...         55   \n",
       "975  https://twitter.com/DLin71/status/636397462190...         26   \n",
       "976  https://www.reuters.com/markets/europe/ecbs-la...         54   \n",
       "977  https://www.bloomberg.com/news/articles/2021-0...         70   \n",
       "\n",
       "          created body  \n",
       "0    1.614795e+09       \n",
       "1    1.611689e+09       \n",
       "2    1.611844e+09       \n",
       "3    1.584412e+09       \n",
       "4    1.645810e+09       \n",
       "..            ...  ...  \n",
       "973  1.627900e+09       \n",
       "974  1.566928e+09       \n",
       "975  1.440624e+09       \n",
       "976  1.663321e+09       \n",
       "977  1.626967e+09       \n",
       "\n",
       "[978 rows x 7 columns]"
      ]
     },
     "execution_count": 18,
     "metadata": {},
     "output_type": "execute_result"
    }
   ],
   "source": [
    "topics_data"
   ]
  },
  {
   "cell_type": "markdown",
   "metadata": {},
   "source": [
    "**Saving data into csv file**"
   ]
  },
  {
   "cell_type": "code",
   "execution_count": 19,
   "metadata": {},
   "outputs": [],
   "source": [
    "# Save the dataframe to a csv file\n",
    "topics_data.to_csv('Infiniti.csv', index=False)"
   ]
  },
  {
   "cell_type": "code",
   "execution_count": 20,
   "metadata": {},
   "outputs": [],
   "source": [
    "# Read the csv file into a dataframe\n",
    "infiniti = pd.read_csv('Infiniti.csv')"
   ]
  },
  {
   "cell_type": "code",
   "execution_count": 21,
   "metadata": {},
   "outputs": [
    {
     "data": {
      "text/html": [
       "<div>\n",
       "<style scoped>\n",
       "    .dataframe tbody tr th:only-of-type {\n",
       "        vertical-align: middle;\n",
       "    }\n",
       "\n",
       "    .dataframe tbody tr th {\n",
       "        vertical-align: top;\n",
       "    }\n",
       "\n",
       "    .dataframe thead th {\n",
       "        text-align: right;\n",
       "    }\n",
       "</style>\n",
       "<table border=\"1\" class=\"dataframe\">\n",
       "  <thead>\n",
       "    <tr style=\"text-align: right;\">\n",
       "      <th></th>\n",
       "      <th>title</th>\n",
       "      <th>score</th>\n",
       "      <th>id</th>\n",
       "      <th>url</th>\n",
       "      <th>comms_num</th>\n",
       "      <th>created</th>\n",
       "      <th>body</th>\n",
       "    </tr>\n",
       "  </thead>\n",
       "  <tbody>\n",
       "    <tr>\n",
       "      <th>0</th>\n",
       "      <td>Bipartisan bill would ban lawmakers from buyin...</td>\n",
       "      <td>11912</td>\n",
       "      <td>lx09gp</td>\n",
       "      <td>https://thehill.com/policy/finance/541425-bipa...</td>\n",
       "      <td>301</td>\n",
       "      <td>1.614795e+09</td>\n",
       "      <td>NaN</td>\n",
       "    </tr>\n",
       "    <tr>\n",
       "      <th>1</th>\n",
       "      <td>Wall st short-sellers lost $1.6 billion in a s...</td>\n",
       "      <td>7744</td>\n",
       "      <td>l5lcy8</td>\n",
       "      <td>https://markets.businessinsider.com/news/stock...</td>\n",
       "      <td>636</td>\n",
       "      <td>1.611689e+09</td>\n",
       "      <td>NaN</td>\n",
       "    </tr>\n",
       "    <tr>\n",
       "      <th>2</th>\n",
       "      <td>Robinhood, Interactive Brokers restrict tradin...</td>\n",
       "      <td>6012</td>\n",
       "      <td>l6xt5u</td>\n",
       "      <td>https://www.cnbc.com/2021/01/28/robinhood-inte...</td>\n",
       "      <td>504</td>\n",
       "      <td>1.611844e+09</td>\n",
       "      <td>NaN</td>\n",
       "    </tr>\n",
       "    <tr>\n",
       "      <th>3</th>\n",
       "      <td>U.S. Airlines Ask for Bailout as They Spent 96...</td>\n",
       "      <td>4429</td>\n",
       "      <td>fjxdp2</td>\n",
       "      <td>https://www.bloomberg.com/news/articles/2020-0...</td>\n",
       "      <td>698</td>\n",
       "      <td>1.584412e+09</td>\n",
       "      <td>NaN</td>\n",
       "    </tr>\n",
       "    <tr>\n",
       "      <th>4</th>\n",
       "      <td>AP News: Live updates: European Union freezes ...</td>\n",
       "      <td>4209</td>\n",
       "      <td>t19d1e</td>\n",
       "      <td>https://apnews.com/article/russia-ukraine-busi...</td>\n",
       "      <td>199</td>\n",
       "      <td>1.645810e+09</td>\n",
       "      <td>NaN</td>\n",
       "    </tr>\n",
       "    <tr>\n",
       "      <th>...</th>\n",
       "      <td>...</td>\n",
       "      <td>...</td>\n",
       "      <td>...</td>\n",
       "      <td>...</td>\n",
       "      <td>...</td>\n",
       "      <td>...</td>\n",
       "      <td>...</td>\n",
       "    </tr>\n",
       "    <tr>\n",
       "      <th>973</th>\n",
       "      <td>Credit Suisse Bet So Much on Archegos for So L...</td>\n",
       "      <td>343</td>\n",
       "      <td>owbr79</td>\n",
       "      <td>https://www.bloomberg.com/opinion/articles/202...</td>\n",
       "      <td>33</td>\n",
       "      <td>1.627900e+09</td>\n",
       "      <td>NaN</td>\n",
       "    </tr>\n",
       "    <tr>\n",
       "      <th>974</th>\n",
       "      <td>The world's top hedge fund so far in 2019 has ...</td>\n",
       "      <td>346</td>\n",
       "      <td>cw7v9x</td>\n",
       "      <td>https://markets.businessinsider.com/news/stock...</td>\n",
       "      <td>55</td>\n",
       "      <td>1.566928e+09</td>\n",
       "      <td>NaN</td>\n",
       "    </tr>\n",
       "    <tr>\n",
       "      <th>975</th>\n",
       "      <td>Fascinating chart showing the strong correlati...</td>\n",
       "      <td>348</td>\n",
       "      <td>3iil5e</td>\n",
       "      <td>https://twitter.com/DLin71/status/636397462190...</td>\n",
       "      <td>26</td>\n",
       "      <td>1.440624e+09</td>\n",
       "      <td>NaN</td>\n",
       "    </tr>\n",
       "    <tr>\n",
       "      <th>976</th>\n",
       "      <td>ECB's Lagarde says price stability priority be...</td>\n",
       "      <td>348</td>\n",
       "      <td>xfmtrc</td>\n",
       "      <td>https://www.reuters.com/markets/europe/ecbs-la...</td>\n",
       "      <td>54</td>\n",
       "      <td>1.663321e+09</td>\n",
       "      <td>NaN</td>\n",
       "    </tr>\n",
       "    <tr>\n",
       "      <th>977</th>\n",
       "      <td>China Weighs Unprecedented Penalty for Didi Af...</td>\n",
       "      <td>343</td>\n",
       "      <td>opfsua</td>\n",
       "      <td>https://www.bloomberg.com/news/articles/2021-0...</td>\n",
       "      <td>70</td>\n",
       "      <td>1.626967e+09</td>\n",
       "      <td>NaN</td>\n",
       "    </tr>\n",
       "  </tbody>\n",
       "</table>\n",
       "<p>978 rows × 7 columns</p>\n",
       "</div>"
      ],
      "text/plain": [
       "                                                 title  score      id  \\\n",
       "0    Bipartisan bill would ban lawmakers from buyin...  11912  lx09gp   \n",
       "1    Wall st short-sellers lost $1.6 billion in a s...   7744  l5lcy8   \n",
       "2    Robinhood, Interactive Brokers restrict tradin...   6012  l6xt5u   \n",
       "3    U.S. Airlines Ask for Bailout as They Spent 96...   4429  fjxdp2   \n",
       "4    AP News: Live updates: European Union freezes ...   4209  t19d1e   \n",
       "..                                                 ...    ...     ...   \n",
       "973  Credit Suisse Bet So Much on Archegos for So L...    343  owbr79   \n",
       "974  The world's top hedge fund so far in 2019 has ...    346  cw7v9x   \n",
       "975  Fascinating chart showing the strong correlati...    348  3iil5e   \n",
       "976  ECB's Lagarde says price stability priority be...    348  xfmtrc   \n",
       "977  China Weighs Unprecedented Penalty for Didi Af...    343  opfsua   \n",
       "\n",
       "                                                   url  comms_num  \\\n",
       "0    https://thehill.com/policy/finance/541425-bipa...        301   \n",
       "1    https://markets.businessinsider.com/news/stock...        636   \n",
       "2    https://www.cnbc.com/2021/01/28/robinhood-inte...        504   \n",
       "3    https://www.bloomberg.com/news/articles/2020-0...        698   \n",
       "4    https://apnews.com/article/russia-ukraine-busi...        199   \n",
       "..                                                 ...        ...   \n",
       "973  https://www.bloomberg.com/opinion/articles/202...         33   \n",
       "974  https://markets.businessinsider.com/news/stock...         55   \n",
       "975  https://twitter.com/DLin71/status/636397462190...         26   \n",
       "976  https://www.reuters.com/markets/europe/ecbs-la...         54   \n",
       "977  https://www.bloomberg.com/news/articles/2021-0...         70   \n",
       "\n",
       "          created body  \n",
       "0    1.614795e+09  NaN  \n",
       "1    1.611689e+09  NaN  \n",
       "2    1.611844e+09  NaN  \n",
       "3    1.584412e+09  NaN  \n",
       "4    1.645810e+09  NaN  \n",
       "..            ...  ...  \n",
       "973  1.627900e+09  NaN  \n",
       "974  1.566928e+09  NaN  \n",
       "975  1.440624e+09  NaN  \n",
       "976  1.663321e+09  NaN  \n",
       "977  1.626967e+09  NaN  \n",
       "\n",
       "[978 rows x 7 columns]"
      ]
     },
     "execution_count": 21,
     "metadata": {},
     "output_type": "execute_result"
    }
   ],
   "source": [
    "infiniti"
   ]
  },
  {
   "cell_type": "markdown",
   "metadata": {},
   "source": [
    "**Reducing Unnecessory dimensions**"
   ]
  },
  {
   "cell_type": "code",
   "execution_count": 22,
   "metadata": {},
   "outputs": [],
   "source": [
    "# Drop the columns that are not needed\n",
    "infiniti = infiniti.drop(['id', 'url', 'created', 'comms_num', 'score'], axis=1)"
   ]
  },
  {
   "cell_type": "code",
   "execution_count": 23,
   "metadata": {},
   "outputs": [
    {
     "data": {
      "text/plain": [
       "(978, 2)"
      ]
     },
     "execution_count": 23,
     "metadata": {},
     "output_type": "execute_result"
    }
   ],
   "source": [
    "# Drop the rows that have no body\n",
    "infiniti = infiniti[infiniti.body != '[removed]']\n",
    "infiniti = infiniti[infiniti.body != '[deleted]']\n",
    "infiniti = infiniti[infiniti.body != '']\n",
    "\n",
    "# Reset the index\n",
    "infiniti = infiniti.reset_index(drop=True)\n",
    "infiniti.shape\n"
   ]
  },
  {
   "cell_type": "code",
   "execution_count": 24,
   "metadata": {},
   "outputs": [],
   "source": [
    "# Replacing nan values with empty string\n",
    "infiniti = infiniti.replace(np.nan, '', regex=True)"
   ]
  },
  {
   "cell_type": "code",
   "execution_count": 25,
   "metadata": {},
   "outputs": [
    {
     "data": {
      "text/plain": [
       "(977, 2)"
      ]
     },
     "execution_count": 25,
     "metadata": {},
     "output_type": "execute_result"
    }
   ],
   "source": [
    "# checking duplicates and removing them\n",
    "infiniti.drop_duplicates(subset=None, inplace=True)\n",
    "infiniti.shape"
   ]
  },
  {
   "cell_type": "code",
   "execution_count": 26,
   "metadata": {},
   "outputs": [
    {
     "data": {
      "text/html": [
       "<div>\n",
       "<style scoped>\n",
       "    .dataframe tbody tr th:only-of-type {\n",
       "        vertical-align: middle;\n",
       "    }\n",
       "\n",
       "    .dataframe tbody tr th {\n",
       "        vertical-align: top;\n",
       "    }\n",
       "\n",
       "    .dataframe thead th {\n",
       "        text-align: right;\n",
       "    }\n",
       "</style>\n",
       "<table border=\"1\" class=\"dataframe\">\n",
       "  <thead>\n",
       "    <tr style=\"text-align: right;\">\n",
       "      <th></th>\n",
       "      <th>title</th>\n",
       "      <th>body</th>\n",
       "    </tr>\n",
       "  </thead>\n",
       "  <tbody>\n",
       "    <tr>\n",
       "      <th>0</th>\n",
       "      <td>Bipartisan bill would ban lawmakers from buyin...</td>\n",
       "      <td></td>\n",
       "    </tr>\n",
       "    <tr>\n",
       "      <th>1</th>\n",
       "      <td>Wall st short-sellers lost $1.6 billion in a s...</td>\n",
       "      <td></td>\n",
       "    </tr>\n",
       "    <tr>\n",
       "      <th>2</th>\n",
       "      <td>Robinhood, Interactive Brokers restrict tradin...</td>\n",
       "      <td></td>\n",
       "    </tr>\n",
       "    <tr>\n",
       "      <th>3</th>\n",
       "      <td>U.S. Airlines Ask for Bailout as They Spent 96...</td>\n",
       "      <td></td>\n",
       "    </tr>\n",
       "    <tr>\n",
       "      <th>4</th>\n",
       "      <td>AP News: Live updates: European Union freezes ...</td>\n",
       "      <td></td>\n",
       "    </tr>\n",
       "  </tbody>\n",
       "</table>\n",
       "</div>"
      ],
      "text/plain": [
       "                                               title body\n",
       "0  Bipartisan bill would ban lawmakers from buyin...     \n",
       "1  Wall st short-sellers lost $1.6 billion in a s...     \n",
       "2  Robinhood, Interactive Brokers restrict tradin...     \n",
       "3  U.S. Airlines Ask for Bailout as They Spent 96...     \n",
       "4  AP News: Live updates: European Union freezes ...     "
      ]
     },
     "execution_count": 26,
     "metadata": {},
     "output_type": "execute_result"
    }
   ],
   "source": [
    "infiniti.head()"
   ]
  },
  {
   "cell_type": "markdown",
   "metadata": {},
   "source": [
    "**Joining title and body column**"
   ]
  },
  {
   "cell_type": "code",
   "execution_count": 27,
   "metadata": {},
   "outputs": [
    {
     "data": {
      "text/html": [
       "<div>\n",
       "<style scoped>\n",
       "    .dataframe tbody tr th:only-of-type {\n",
       "        vertical-align: middle;\n",
       "    }\n",
       "\n",
       "    .dataframe tbody tr th {\n",
       "        vertical-align: top;\n",
       "    }\n",
       "\n",
       "    .dataframe thead th {\n",
       "        text-align: right;\n",
       "    }\n",
       "</style>\n",
       "<table border=\"1\" class=\"dataframe\">\n",
       "  <thead>\n",
       "    <tr style=\"text-align: right;\">\n",
       "      <th></th>\n",
       "      <th>text</th>\n",
       "    </tr>\n",
       "  </thead>\n",
       "  <tbody>\n",
       "    <tr>\n",
       "      <th>0</th>\n",
       "      <td>Bipartisan bill would ban lawmakers from buyin...</td>\n",
       "    </tr>\n",
       "    <tr>\n",
       "      <th>1</th>\n",
       "      <td>Wall st short-sellers lost $1.6 billion in a s...</td>\n",
       "    </tr>\n",
       "    <tr>\n",
       "      <th>2</th>\n",
       "      <td>Robinhood, Interactive Brokers restrict tradin...</td>\n",
       "    </tr>\n",
       "    <tr>\n",
       "      <th>3</th>\n",
       "      <td>U.S. Airlines Ask for Bailout as They Spent 96...</td>\n",
       "    </tr>\n",
       "    <tr>\n",
       "      <th>4</th>\n",
       "      <td>AP News: Live updates: European Union freezes ...</td>\n",
       "    </tr>\n",
       "  </tbody>\n",
       "</table>\n",
       "</div>"
      ],
      "text/plain": [
       "                                                text\n",
       "0  Bipartisan bill would ban lawmakers from buyin...\n",
       "1  Wall st short-sellers lost $1.6 billion in a s...\n",
       "2  Robinhood, Interactive Brokers restrict tradin...\n",
       "3  U.S. Airlines Ask for Bailout as They Spent 96...\n",
       "4  AP News: Live updates: European Union freezes ..."
      ]
     },
     "execution_count": 27,
     "metadata": {},
     "output_type": "execute_result"
    }
   ],
   "source": [
    "# Joining the title and body columns\n",
    "infiniti['text'] = infiniti['title'].map(str) + ' ' + infiniti['body'].map(str)\n",
    "\n",
    "# Drop the title and body columns\n",
    "infiniti = infiniti.drop(['title', 'body'], axis=1)\n",
    "\n",
    "infiniti.head()"
   ]
  },
  {
   "cell_type": "markdown",
   "metadata": {},
   "source": [
    "**Using Pre-trained model from hugging-face**"
   ]
  },
  {
   "cell_type": "code",
   "execution_count": 28,
   "metadata": {},
   "outputs": [],
   "source": [
    "# Use a pipeline as a high-level helper\n",
    "from transformers import pipeline\n",
    "\n",
    "pipe = pipeline(\"text-classification\", model=\"mrm8488/distilroberta-finetuned-financial-news-sentiment-analysis\")"
   ]
  },
  {
   "cell_type": "markdown",
   "metadata": {},
   "source": [
    "**Annotating the dataset**"
   ]
  },
  {
   "cell_type": "code",
   "execution_count": 32,
   "metadata": {},
   "outputs": [],
   "source": [
    "# Create a list to store the sentiment scores\n",
    "sentiment_scores = []\n",
    "\n",
    "# Loop through the text column and get the sentiment score for each row \n",
    "for index, row in infiniti.iterrows():\n",
    "    sentiment_scores.append(pipe(row['text'], max_length=512, truncation=True))"
   ]
  },
  {
   "cell_type": "code",
   "execution_count": 33,
   "metadata": {},
   "outputs": [
    {
     "data": {
      "text/html": [
       "<div>\n",
       "<style scoped>\n",
       "    .dataframe tbody tr th:only-of-type {\n",
       "        vertical-align: middle;\n",
       "    }\n",
       "\n",
       "    .dataframe tbody tr th {\n",
       "        vertical-align: top;\n",
       "    }\n",
       "\n",
       "    .dataframe thead th {\n",
       "        text-align: right;\n",
       "    }\n",
       "</style>\n",
       "<table border=\"1\" class=\"dataframe\">\n",
       "  <thead>\n",
       "    <tr style=\"text-align: right;\">\n",
       "      <th></th>\n",
       "      <th>text</th>\n",
       "      <th>sentiment</th>\n",
       "    </tr>\n",
       "  </thead>\n",
       "  <tbody>\n",
       "    <tr>\n",
       "      <th>0</th>\n",
       "      <td>Bipartisan bill would ban lawmakers from buyin...</td>\n",
       "      <td>neutral</td>\n",
       "    </tr>\n",
       "    <tr>\n",
       "      <th>1</th>\n",
       "      <td>Wall st short-sellers lost $1.6 billion in a s...</td>\n",
       "      <td>negative</td>\n",
       "    </tr>\n",
       "    <tr>\n",
       "      <th>2</th>\n",
       "      <td>Robinhood, Interactive Brokers restrict tradin...</td>\n",
       "      <td>neutral</td>\n",
       "    </tr>\n",
       "    <tr>\n",
       "      <th>3</th>\n",
       "      <td>U.S. Airlines Ask for Bailout as They Spent 96...</td>\n",
       "      <td>neutral</td>\n",
       "    </tr>\n",
       "    <tr>\n",
       "      <th>4</th>\n",
       "      <td>AP News: Live updates: European Union freezes ...</td>\n",
       "      <td>negative</td>\n",
       "    </tr>\n",
       "  </tbody>\n",
       "</table>\n",
       "</div>"
      ],
      "text/plain": [
       "                                                text sentiment\n",
       "0  Bipartisan bill would ban lawmakers from buyin...   neutral\n",
       "1  Wall st short-sellers lost $1.6 billion in a s...  negative\n",
       "2  Robinhood, Interactive Brokers restrict tradin...   neutral\n",
       "3  U.S. Airlines Ask for Bailout as They Spent 96...   neutral\n",
       "4  AP News: Live updates: European Union freezes ...  negative"
      ]
     },
     "execution_count": 33,
     "metadata": {},
     "output_type": "execute_result"
    }
   ],
   "source": [
    "# Create a list to store the sentiment labels\n",
    "sentiment_labels = []\n",
    "\n",
    "# Loop through the sentiment scores and get the label for each row\n",
    "for i in range(len(sentiment_scores)):\n",
    "    sentiment_labels.append(sentiment_scores[i][0]['label'])\n",
    "\n",
    "# Create a column for the sentiment labels\n",
    "infiniti['sentiment'] = sentiment_labels\n",
    "\n",
    "infiniti.head()"
   ]
  },
  {
   "cell_type": "markdown",
   "metadata": {},
   "source": [
    "**Converting the labels into 0,1and 2**"
   ]
  },
  {
   "cell_type": "code",
   "execution_count": 34,
   "metadata": {},
   "outputs": [],
   "source": [
    "# Changing the labels to 0, 1 and 2\n",
    "infiniti['sentiment'] = infiniti['sentiment'].replace(['positive', 'negative', 'neutral'], [0, 1, 2])"
   ]
  },
  {
   "cell_type": "markdown",
   "metadata": {},
   "source": [
    "**Checking for class imbalances and Resolving it**"
   ]
  },
  {
   "cell_type": "code",
   "execution_count": 35,
   "metadata": {},
   "outputs": [
    {
     "name": "stdout",
     "output_type": "stream",
     "text": [
      "sentiment\n",
      "2    456\n",
      "1    333\n",
      "0    188\n",
      "Name: count, dtype: int64\n"
     ]
    }
   ],
   "source": [
    "# Printing value counts for each label\n",
    "print(infiniti['sentiment'].value_counts())\n"
   ]
  },
  {
   "cell_type": "code",
   "execution_count": 36,
   "metadata": {},
   "outputs": [
    {
     "data": {
      "text/plain": [
       "sentiment\n",
       "2    456\n",
       "1    333\n",
       "0    250\n",
       "Name: count, dtype: int64"
      ]
     },
     "execution_count": 36,
     "metadata": {},
     "output_type": "execute_result"
    }
   ],
   "source": [
    "# Upsampling class 0\n",
    "from sklearn.utils import resample\n",
    "\n",
    "# Separate majority and minority classes\n",
    "df_2 = infiniti[infiniti.sentiment==2]\n",
    "df_1 = infiniti[infiniti.sentiment==1]\n",
    "df_0 = infiniti[infiniti.sentiment==0]\n",
    "\n",
    "# Upsample minority class\n",
    "df_0_upsampled = resample(df_0, \n",
    "                          replace=True,     # sample with replacement\n",
    "                          n_samples=250,    # to match majority class\n",
    "                          random_state=123) # reproducible results\n",
    "\n",
    "# Combine majority class with upsampled minority class\n",
    "df_upsampled = pd.concat([df_2, df_1, df_0_upsampled])\n",
    "\n",
    "# Display new class counts\n",
    "df_upsampled.sentiment.value_counts()"
   ]
  },
  {
   "cell_type": "code",
   "execution_count": 37,
   "metadata": {},
   "outputs": [],
   "source": [
    "df = df_upsampled"
   ]
  },
  {
   "cell_type": "code",
   "execution_count": 3,
   "metadata": {},
   "outputs": [],
   "source": [
    "df = pd.read_csv('Infiniti_sentiment_balanced.csv')"
   ]
  },
  {
   "cell_type": "code",
   "execution_count": 4,
   "metadata": {},
   "outputs": [
    {
     "data": {
      "text/plain": [
       "sentiment\n",
       "2    457\n",
       "1    333\n",
       "0    250\n",
       "Name: count, dtype: int64"
      ]
     },
     "execution_count": 4,
     "metadata": {},
     "output_type": "execute_result"
    }
   ],
   "source": [
    "df.sentiment.value_counts()"
   ]
  },
  {
   "cell_type": "code",
   "execution_count": 5,
   "metadata": {},
   "outputs": [
    {
     "data": {
      "text/html": [
       "<div>\n",
       "<style scoped>\n",
       "    .dataframe tbody tr th:only-of-type {\n",
       "        vertical-align: middle;\n",
       "    }\n",
       "\n",
       "    .dataframe tbody tr th {\n",
       "        vertical-align: top;\n",
       "    }\n",
       "\n",
       "    .dataframe thead th {\n",
       "        text-align: right;\n",
       "    }\n",
       "</style>\n",
       "<table border=\"1\" class=\"dataframe\">\n",
       "  <thead>\n",
       "    <tr style=\"text-align: right;\">\n",
       "      <th></th>\n",
       "      <th>text</th>\n",
       "      <th>sentiment</th>\n",
       "    </tr>\n",
       "  </thead>\n",
       "  <tbody>\n",
       "    <tr>\n",
       "      <th>0</th>\n",
       "      <td>Bipartisan bill would ban lawmakers from buyin...</td>\n",
       "      <td>2</td>\n",
       "    </tr>\n",
       "    <tr>\n",
       "      <th>1</th>\n",
       "      <td>Robinhood, Interactive Brokers restrict tradin...</td>\n",
       "      <td>2</td>\n",
       "    </tr>\n",
       "    <tr>\n",
       "      <th>2</th>\n",
       "      <td>U.S. Airlines Ask for Bailout as They Spent 96...</td>\n",
       "      <td>2</td>\n",
       "    </tr>\n",
       "    <tr>\n",
       "      <th>3</th>\n",
       "      <td>Visa and Mastercard block Russian banks from t...</td>\n",
       "      <td>2</td>\n",
       "    </tr>\n",
       "    <tr>\n",
       "      <th>4</th>\n",
       "      <td>American Factories Are Making Stuff Again as C...</td>\n",
       "      <td>2</td>\n",
       "    </tr>\n",
       "  </tbody>\n",
       "</table>\n",
       "</div>"
      ],
      "text/plain": [
       "                                                text  sentiment\n",
       "0  Bipartisan bill would ban lawmakers from buyin...          2\n",
       "1  Robinhood, Interactive Brokers restrict tradin...          2\n",
       "2  U.S. Airlines Ask for Bailout as They Spent 96...          2\n",
       "3  Visa and Mastercard block Russian banks from t...          2\n",
       "4  American Factories Are Making Stuff Again as C...          2"
      ]
     },
     "execution_count": 5,
     "metadata": {},
     "output_type": "execute_result"
    }
   ],
   "source": [
    "df.head()"
   ]
  },
  {
   "cell_type": "markdown",
   "metadata": {},
   "source": [
    "**Text Normalization**"
   ]
  },
  {
   "cell_type": "code",
   "execution_count": 6,
   "metadata": {},
   "outputs": [
    {
     "name": "stderr",
     "output_type": "stream",
     "text": [
      "[nltk_data] Downloading package stopwords to\n",
      "[nltk_data]     /Users/aerishgaba/nltk_data...\n",
      "[nltk_data]   Package stopwords is already up-to-date!\n"
     ]
    },
    {
     "data": {
      "text/html": [
       "<div>\n",
       "<style scoped>\n",
       "    .dataframe tbody tr th:only-of-type {\n",
       "        vertical-align: middle;\n",
       "    }\n",
       "\n",
       "    .dataframe tbody tr th {\n",
       "        vertical-align: top;\n",
       "    }\n",
       "\n",
       "    .dataframe thead th {\n",
       "        text-align: right;\n",
       "    }\n",
       "</style>\n",
       "<table border=\"1\" class=\"dataframe\">\n",
       "  <thead>\n",
       "    <tr style=\"text-align: right;\">\n",
       "      <th></th>\n",
       "      <th>text</th>\n",
       "      <th>sentiment</th>\n",
       "    </tr>\n",
       "  </thead>\n",
       "  <tbody>\n",
       "    <tr>\n",
       "      <th>0</th>\n",
       "      <td>bipartisan bill would ban lawmakers buying sel...</td>\n",
       "      <td>2</td>\n",
       "    </tr>\n",
       "    <tr>\n",
       "      <th>1</th>\n",
       "      <td>robinhood interactive brokers restrict trading...</td>\n",
       "      <td>2</td>\n",
       "    </tr>\n",
       "    <tr>\n",
       "      <th>2</th>\n",
       "      <td>us airlines ask bailout spent free cash flow b...</td>\n",
       "      <td>2</td>\n",
       "    </tr>\n",
       "    <tr>\n",
       "      <th>3</th>\n",
       "      <td>visa mastercard block russian banks networks s...</td>\n",
       "      <td>2</td>\n",
       "    </tr>\n",
       "    <tr>\n",
       "      <th>4</th>\n",
       "      <td>american factories making stuff ceos take prod...</td>\n",
       "      <td>2</td>\n",
       "    </tr>\n",
       "  </tbody>\n",
       "</table>\n",
       "</div>"
      ],
      "text/plain": [
       "                                                text  sentiment\n",
       "0  bipartisan bill would ban lawmakers buying sel...          2\n",
       "1  robinhood interactive brokers restrict trading...          2\n",
       "2  us airlines ask bailout spent free cash flow b...          2\n",
       "3  visa mastercard block russian banks networks s...          2\n",
       "4  american factories making stuff ceos take prod...          2"
      ]
     },
     "execution_count": 6,
     "metadata": {},
     "output_type": "execute_result"
    }
   ],
   "source": [
    "# Cleaning the dataset\n",
    "import re\n",
    "import string\n",
    "import nltk\n",
    "from nltk.corpus import stopwords\n",
    "nltk.download('stopwords')\n",
    "\n",
    "def clean_text(text):\n",
    "    \"\"\"Make text lowercase, remove text in square brackets, remove punctuation, remove words containing numbers, mentions and remove URL.\"\"\"\n",
    "    text = text.lower()\n",
    "    text = re.sub('\\[.*?\\]', '', text)\n",
    "    text = re.sub('[%s]' % re.escape(string.punctuation), '', text)\n",
    "    text = re.sub('\\w*\\d\\w*', '', text)\n",
    "    text = re.sub('@[^\\s]+','',text)\n",
    "    text = re.sub(r'https?://\\S+|www\\.\\S+', 'URL', text)\n",
    "\n",
    "    return text\n",
    "\n",
    "# Apply the clean_text function to the text column\n",
    "df['text'] = df['text'].apply(lambda x: clean_text(x))\n",
    "\n",
    "# Create a list of stopwords\n",
    "stop = stopwords.words('english')\n",
    "\n",
    "# Create a function to remove stopwords\n",
    "def remove_stopwords(text):\n",
    "    \"\"\"Remove stopwords from text\"\"\"\n",
    "    text = ' '.join(word for word in text.split() if word not in stop)\n",
    "    return text\n",
    "\n",
    "# Apply the remove_stopwords function to the text column\n",
    "df['text'] = df['text'].apply(lambda x: remove_stopwords(x))\n",
    "\n",
    "df.head()"
   ]
  },
  {
   "cell_type": "markdown",
   "metadata": {},
   "source": [
    "**Removing # and emojis**"
   ]
  },
  {
   "cell_type": "code",
   "execution_count": 7,
   "metadata": {},
   "outputs": [
    {
     "data": {
      "text/html": [
       "<div>\n",
       "<style scoped>\n",
       "    .dataframe tbody tr th:only-of-type {\n",
       "        vertical-align: middle;\n",
       "    }\n",
       "\n",
       "    .dataframe tbody tr th {\n",
       "        vertical-align: top;\n",
       "    }\n",
       "\n",
       "    .dataframe thead th {\n",
       "        text-align: right;\n",
       "    }\n",
       "</style>\n",
       "<table border=\"1\" class=\"dataframe\">\n",
       "  <thead>\n",
       "    <tr style=\"text-align: right;\">\n",
       "      <th></th>\n",
       "      <th>text</th>\n",
       "      <th>sentiment</th>\n",
       "    </tr>\n",
       "  </thead>\n",
       "  <tbody>\n",
       "    <tr>\n",
       "      <th>0</th>\n",
       "      <td>bipartisan bill would ban lawmakers buying sel...</td>\n",
       "      <td>2</td>\n",
       "    </tr>\n",
       "    <tr>\n",
       "      <th>1</th>\n",
       "      <td>robinhood interactive brokers restrict trading...</td>\n",
       "      <td>2</td>\n",
       "    </tr>\n",
       "    <tr>\n",
       "      <th>2</th>\n",
       "      <td>us airlines ask bailout spent free cash flow b...</td>\n",
       "      <td>2</td>\n",
       "    </tr>\n",
       "    <tr>\n",
       "      <th>3</th>\n",
       "      <td>visa mastercard block russian banks networks s...</td>\n",
       "      <td>2</td>\n",
       "    </tr>\n",
       "    <tr>\n",
       "      <th>4</th>\n",
       "      <td>american factories making stuff ceos take prod...</td>\n",
       "      <td>2</td>\n",
       "    </tr>\n",
       "  </tbody>\n",
       "</table>\n",
       "</div>"
      ],
      "text/plain": [
       "                                                text  sentiment\n",
       "0  bipartisan bill would ban lawmakers buying sel...          2\n",
       "1  robinhood interactive brokers restrict trading...          2\n",
       "2  us airlines ask bailout spent free cash flow b...          2\n",
       "3  visa mastercard block russian banks networks s...          2\n",
       "4  american factories making stuff ceos take prod...          2"
      ]
     },
     "execution_count": 7,
     "metadata": {},
     "output_type": "execute_result"
    }
   ],
   "source": [
    "# Removing the hashtags and emojis\n",
    "def remove_hashtag_emoji(text):\n",
    "    \"\"\"Remove hashtags and emojis from text\"\"\"\n",
    "    text = re.sub(r'#\\w*', '', text)\n",
    "    text = re.sub(r'[^\\x00-\\x7F]+', '', text)\n",
    "    return text\n",
    "\n",
    "# Apply the remove_hashtag_emoji function to the text column\n",
    "df['text'] = df['text'].apply(lambda x: remove_hashtag_emoji(x))\n",
    "\n",
    "df.head()"
   ]
  },
  {
   "cell_type": "markdown",
   "metadata": {},
   "source": [
    "**Tokenization**"
   ]
  },
  {
   "cell_type": "markdown",
   "metadata": {},
   "source": [
    "**Tokenization - The process of converting a sequence of text into smaller parts, known as tokens. These tokens can be as small as characters or as long as words.**"
   ]
  },
  {
   "cell_type": "code",
   "execution_count": 8,
   "metadata": {},
   "outputs": [
    {
     "data": {
      "text/html": [
       "<div>\n",
       "<style scoped>\n",
       "    .dataframe tbody tr th:only-of-type {\n",
       "        vertical-align: middle;\n",
       "    }\n",
       "\n",
       "    .dataframe tbody tr th {\n",
       "        vertical-align: top;\n",
       "    }\n",
       "\n",
       "    .dataframe thead th {\n",
       "        text-align: right;\n",
       "    }\n",
       "</style>\n",
       "<table border=\"1\" class=\"dataframe\">\n",
       "  <thead>\n",
       "    <tr style=\"text-align: right;\">\n",
       "      <th></th>\n",
       "      <th>text</th>\n",
       "      <th>sentiment</th>\n",
       "    </tr>\n",
       "  </thead>\n",
       "  <tbody>\n",
       "    <tr>\n",
       "      <th>0</th>\n",
       "      <td>[bipartisan, bill, would, ban, lawmakers, buyi...</td>\n",
       "      <td>2</td>\n",
       "    </tr>\n",
       "    <tr>\n",
       "      <th>1</th>\n",
       "      <td>[robinhood, interactive, brokers, restrict, tr...</td>\n",
       "      <td>2</td>\n",
       "    </tr>\n",
       "    <tr>\n",
       "      <th>2</th>\n",
       "      <td>[us, airlines, ask, bailout, spent, free, cash...</td>\n",
       "      <td>2</td>\n",
       "    </tr>\n",
       "    <tr>\n",
       "      <th>3</th>\n",
       "      <td>[visa, mastercard, block, russian, banks, netw...</td>\n",
       "      <td>2</td>\n",
       "    </tr>\n",
       "    <tr>\n",
       "      <th>4</th>\n",
       "      <td>[american, factories, making, stuff, ceos, tak...</td>\n",
       "      <td>2</td>\n",
       "    </tr>\n",
       "  </tbody>\n",
       "</table>\n",
       "</div>"
      ],
      "text/plain": [
       "                                                text  sentiment\n",
       "0  [bipartisan, bill, would, ban, lawmakers, buyi...          2\n",
       "1  [robinhood, interactive, brokers, restrict, tr...          2\n",
       "2  [us, airlines, ask, bailout, spent, free, cash...          2\n",
       "3  [visa, mastercard, block, russian, banks, netw...          2\n",
       "4  [american, factories, making, stuff, ceos, tak...          2"
      ]
     },
     "execution_count": 8,
     "metadata": {},
     "output_type": "execute_result"
    }
   ],
   "source": [
    "# Tokenizing the text\n",
    "from nltk.tokenize import RegexpTokenizer\n",
    "\n",
    "tokenizer = RegexpTokenizer(r'\\w+')\n",
    "df['text'] = df['text'].apply(lambda x: tokenizer.tokenize(x.lower()))\n",
    "\n",
    "df.head()"
   ]
  },
  {
   "cell_type": "markdown",
   "metadata": {},
   "source": [
    "**Lemmatization**"
   ]
  },
  {
   "cell_type": "markdown",
   "metadata": {},
   "source": [
    "Stemming is a process that stems or **removes last few characters from a word, often leading to incorrect meanings and spelling.** Lemmatization considers the context and converts the word to its meaningful base form, which is called Lemma.<br>\n",
    "So went for only Lemmatization."
   ]
  },
  {
   "cell_type": "code",
   "execution_count": 9,
   "metadata": {},
   "outputs": [
    {
     "name": "stderr",
     "output_type": "stream",
     "text": [
      "[nltk_data] Downloading package wordnet to\n",
      "[nltk_data]     /Users/aerishgaba/nltk_data...\n",
      "[nltk_data]   Package wordnet is already up-to-date!\n"
     ]
    }
   ],
   "source": [
    "# Lemmatizing the text\n",
    "from nltk.stem import WordNetLemmatizer\n",
    "nltk.download('wordnet')\n",
    "\n",
    "lemmatizer = WordNetLemmatizer()\n",
    "\n",
    "def word_lemmatizer(text):\n",
    "    lem_text = [lemmatizer.lemmatize(i) for i in text]\n",
    "    return lem_text\n",
    "\n",
    "df['text'] = df['text'].apply(lambda x: word_lemmatizer(x))\n"
   ]
  },
  {
   "cell_type": "markdown",
   "metadata": {},
   "source": [
    "Handling Slangs **(Skip the cells for better results)**"
   ]
  },
  {
   "cell_type": "code",
   "execution_count": 72,
   "metadata": {},
   "outputs": [
    {
     "data": {
      "text/html": [
       "<div>\n",
       "<style scoped>\n",
       "    .dataframe tbody tr th:only-of-type {\n",
       "        vertical-align: middle;\n",
       "    }\n",
       "\n",
       "    .dataframe tbody tr th {\n",
       "        vertical-align: top;\n",
       "    }\n",
       "\n",
       "    .dataframe thead th {\n",
       "        text-align: right;\n",
       "    }\n",
       "</style>\n",
       "<table border=\"1\" class=\"dataframe\">\n",
       "  <thead>\n",
       "    <tr style=\"text-align: right;\">\n",
       "      <th></th>\n",
       "      <th>word_id</th>\n",
       "      <th>word</th>\n",
       "      <th>up_votes</th>\n",
       "      <th>down_votes</th>\n",
       "      <th>author</th>\n",
       "      <th>definition</th>\n",
       "      <th>Unnamed: 6</th>\n",
       "      <th>Unnamed: 7</th>\n",
       "      <th>Unnamed: 8</th>\n",
       "      <th>Unnamed: 9</th>\n",
       "      <th>Unnamed: 10</th>\n",
       "      <th>Unnamed: 11</th>\n",
       "    </tr>\n",
       "  </thead>\n",
       "  <tbody>\n",
       "    <tr>\n",
       "      <th>0</th>\n",
       "      <td>7</td>\n",
       "      <td>Janky</td>\n",
       "      <td>296</td>\n",
       "      <td>255</td>\n",
       "      <td>dc397b2f</td>\n",
       "      <td>Undesirable; less-than optimum.</td>\n",
       "      <td>NaN</td>\n",
       "      <td>NaN</td>\n",
       "      <td>NaN</td>\n",
       "      <td>NaN</td>\n",
       "      <td>NaN</td>\n",
       "      <td>NaN</td>\n",
       "    </tr>\n",
       "    <tr>\n",
       "      <th>1</th>\n",
       "      <td>8</td>\n",
       "      <td>slumpin'</td>\n",
       "      <td>16</td>\n",
       "      <td>37</td>\n",
       "      <td>dc397b2f</td>\n",
       "      <td>low down and funky, but [knee deep] enough to ...</td>\n",
       "      <td>NaN</td>\n",
       "      <td>NaN</td>\n",
       "      <td>NaN</td>\n",
       "      <td>NaN</td>\n",
       "      <td>NaN</td>\n",
       "      <td>NaN</td>\n",
       "    </tr>\n",
       "    <tr>\n",
       "      <th>2</th>\n",
       "      <td>9</td>\n",
       "      <td>yayeeyay</td>\n",
       "      <td>19</td>\n",
       "      <td>27</td>\n",
       "      <td>dc397b2f</td>\n",
       "      <td>affirmation; suggestion of encouragement, appr...</td>\n",
       "      <td>NaN</td>\n",
       "      <td>NaN</td>\n",
       "      <td>NaN</td>\n",
       "      <td>NaN</td>\n",
       "      <td>NaN</td>\n",
       "      <td>NaN</td>\n",
       "    </tr>\n",
       "    <tr>\n",
       "      <th>3</th>\n",
       "      <td>12</td>\n",
       "      <td>hard-core</td>\n",
       "      <td>162</td>\n",
       "      <td>96</td>\n",
       "      <td>d1610749</td>\n",
       "      <td>anything out of our league that can be good or...</td>\n",
       "      <td>NaN</td>\n",
       "      <td>NaN</td>\n",
       "      <td>NaN</td>\n",
       "      <td>NaN</td>\n",
       "      <td>NaN</td>\n",
       "      <td>NaN</td>\n",
       "    </tr>\n",
       "    <tr>\n",
       "      <th>4</th>\n",
       "      <td>13</td>\n",
       "      <td>brutal</td>\n",
       "      <td>12</td>\n",
       "      <td>45</td>\n",
       "      <td>40ece1ef</td>\n",
       "      <td>anything that makes you sweat</td>\n",
       "      <td>NaN</td>\n",
       "      <td>NaN</td>\n",
       "      <td>NaN</td>\n",
       "      <td>NaN</td>\n",
       "      <td>NaN</td>\n",
       "      <td>NaN</td>\n",
       "    </tr>\n",
       "  </tbody>\n",
       "</table>\n",
       "</div>"
      ],
      "text/plain": [
       "  word_id       word up_votes down_votes    author  \\\n",
       "0       7      Janky      296        255  dc397b2f   \n",
       "1       8   slumpin'       16         37  dc397b2f   \n",
       "2       9   yayeeyay       19         27  dc397b2f   \n",
       "3      12  hard-core      162         96  d1610749   \n",
       "4      13     brutal       12         45  40ece1ef   \n",
       "\n",
       "                                          definition Unnamed: 6 Unnamed: 7  \\\n",
       "0                    Undesirable; less-than optimum.        NaN        NaN   \n",
       "1  low down and funky, but [knee deep] enough to ...        NaN        NaN   \n",
       "2  affirmation; suggestion of encouragement, appr...        NaN        NaN   \n",
       "3  anything out of our league that can be good or...        NaN        NaN   \n",
       "4                      anything that makes you sweat        NaN        NaN   \n",
       "\n",
       "  Unnamed: 8 Unnamed: 9 Unnamed: 10 Unnamed: 11  \n",
       "0        NaN        NaN         NaN         NaN  \n",
       "1        NaN        NaN         NaN         NaN  \n",
       "2        NaN        NaN         NaN         NaN  \n",
       "3        NaN        NaN         NaN         NaN  \n",
       "4        NaN        NaN         NaN         NaN  "
      ]
     },
     "execution_count": 72,
     "metadata": {},
     "output_type": "execute_result"
    }
   ],
   "source": [
    "# Removing slang words\n",
    "slang = pd.read_csv('slang.csv', dtype = str) \n",
    "slang.head()"
   ]
  },
  {
   "cell_type": "code",
   "execution_count": 37,
   "metadata": {},
   "outputs": [
    {
     "data": {
      "text/html": [
       "<div>\n",
       "<style scoped>\n",
       "    .dataframe tbody tr th:only-of-type {\n",
       "        vertical-align: middle;\n",
       "    }\n",
       "\n",
       "    .dataframe tbody tr th {\n",
       "        vertical-align: top;\n",
       "    }\n",
       "\n",
       "    .dataframe thead th {\n",
       "        text-align: right;\n",
       "    }\n",
       "</style>\n",
       "<table border=\"1\" class=\"dataframe\">\n",
       "  <thead>\n",
       "    <tr style=\"text-align: right;\">\n",
       "      <th></th>\n",
       "      <th>text</th>\n",
       "      <th>sentiment</th>\n",
       "    </tr>\n",
       "  </thead>\n",
       "  <tbody>\n",
       "    <tr>\n",
       "      <th>0</th>\n",
       "      <td>Political term wherein members of the democrat...</td>\n",
       "      <td>2</td>\n",
       "    </tr>\n",
       "    <tr>\n",
       "      <th>1</th>\n",
       "      <td>robinhood interactive A slang term for a prost...</td>\n",
       "      <td>2</td>\n",
       "    </tr>\n",
       "    <tr>\n",
       "      <th>2</th>\n",
       "      <td>Shortened, Internet spelling of the word 'you'...</td>\n",
       "      <td>2</td>\n",
       "    </tr>\n",
       "    <tr>\n",
       "      <th>3</th>\n",
       "      <td>Getting approval from your wife / spouse so th...</td>\n",
       "      <td>2</td>\n",
       "    </tr>\n",
       "    <tr>\n",
       "      <th>4</th>\n",
       "      <td>A term used to describe citizens of the countr...</td>\n",
       "      <td>2</td>\n",
       "    </tr>\n",
       "  </tbody>\n",
       "</table>\n",
       "</div>"
      ],
      "text/plain": [
       "                                                text  sentiment\n",
       "0  Political term wherein members of the democrat...          2\n",
       "1  robinhood interactive A slang term for a prost...          2\n",
       "2  Shortened, Internet spelling of the word 'you'...          2\n",
       "3  Getting approval from your wife / spouse so th...          2\n",
       "4  A term used to describe citizens of the countr...          2"
      ]
     },
     "execution_count": 37,
     "metadata": {},
     "output_type": "execute_result"
    }
   ],
   "source": [
    "# Creating a dictionary of slang words\n",
    "slang_dict = {}\n",
    "for index, row in slang.iterrows():\n",
    "    slang_dict[row['word']] = row['definition']\n",
    "\n",
    "# Replacing slang words with their definitions\n",
    "def replace_slang(text):\n",
    "    \"\"\"Replace slang words with their definitions\"\"\"\n",
    "    text = ' '.join(slang_dict[word] if word in slang_dict else word for word in text.split())\n",
    "    return text\n",
    "\n",
    "# Apply the replace_slang function to the text column\n",
    "df['text'] = df['text'].apply(lambda x: replace_slang(x))\n",
    "\n",
    "df.head()\n"
   ]
  },
  {
   "cell_type": "markdown",
   "metadata": {},
   "source": [
    "Creating copies to work on feature extraction"
   ]
  },
  {
   "cell_type": "code",
   "execution_count": 10,
   "metadata": {},
   "outputs": [],
   "source": [
    "# Creating copy of the dataset\n",
    "df_copy_1 = df.copy()\n",
    "df_copy_2 = df.copy()\n",
    "df_copy_3 = df.copy()"
   ]
  },
  {
   "cell_type": "code",
   "execution_count": 11,
   "metadata": {},
   "outputs": [],
   "source": [
    "# Converting list to string\n",
    "df_copy_1['text'] = df_copy_1['text'].apply(lambda x: ' '.join(x))\n",
    "df_copy_2['text'] = df_copy_2['text'].apply(lambda x: ' '.join(x))\n",
    "df_copy_3['text'] = df_copy_3['text'].apply(lambda x: ' '.join(x))"
   ]
  },
  {
   "cell_type": "markdown",
   "metadata": {},
   "source": [
    "**Feature Selection**"
   ]
  },
  {
   "cell_type": "markdown",
   "metadata": {},
   "source": [
    "**The feature selection techniques treat the documents either as group of words (Bag of Words (BOWs), or as a string which retains the sequence of words in the document. BOW is used more often because of its simplicity for the classification process.**"
   ]
  },
  {
   "cell_type": "markdown",
   "metadata": {},
   "source": [
    "**Bag Of Words**\n",
    "\n",
    "Representation: BOW represents text as a simple frequency count of individual words disregarding the order or structure of the text.<br>\n",
    "Vectorization: Each document or piece of text is represented as a vector where each dimension corresponds to a unique word in the entire corpus, and the value in each dimension represents the count of that word in the document.<br>\n",
    "Features: The number of features (dimensions) equals the total number of unique words in the corpus.<br>\n",
    "Advantages: Simple, easy to understand and implement, captures word frequency information."
   ]
  },
  {
   "cell_type": "code",
   "execution_count": 44,
   "metadata": {},
   "outputs": [],
   "source": [
    "# Using Bag of Words model\n",
    "from sklearn.feature_extraction.text import CountVectorizer\n",
    "cv = CountVectorizer(max_features=1000)\n",
    "X_bow = cv.fit_transform(df_copy_1['text']).toarray()\n",
    "y_bow = df_copy_1['sentiment']\n",
    "\n",
    "# Splitting the dataset into the Training set and Test set\n",
    "from sklearn.model_selection import train_test_split\n",
    "X_train_bow, X_test_bow, y_train_bow, y_test_bow = train_test_split(X_bow, y_bow, test_size = 0.20, random_state = 0)\n"
   ]
  },
  {
   "cell_type": "code",
   "execution_count": 45,
   "metadata": {},
   "outputs": [
    {
     "data": {
      "text/plain": [
       "((832, 1000), (208, 1000), (832,), (208,))"
      ]
     },
     "execution_count": 45,
     "metadata": {},
     "output_type": "execute_result"
    }
   ],
   "source": [
    "X_train_bow.shape, X_test_bow.shape, y_train_bow.shape, y_test_bow.shape"
   ]
  },
  {
   "cell_type": "markdown",
   "metadata": {},
   "source": [
    "**TF-IDF (Term Frequency-Inverse Document Frequency)**\n",
    "\n",
    "\n",
    "Representation: Like BOW, TF-IDF also represents text as a numerical vector but considers not only the frequency of words in a document but also their importance in the entire corpus.<br>\n",
    "Vectorization: TF-IDF gives higher weights to words that are more specific to a document but less frequent in the entire corpus. It reduces the importance of common words that appear in many documents (like \"the\", \"and\", etc.).<br>\n",
    "Features: The number of features equals the total number of unique words in the corpus, but the values are transformed based on their importance using the TF-IDF formula.<br>\n",
    "Advantages: Considers the importance of words in a document relative to the entire corpus, reduces the impact of common words."
   ]
  },
  {
   "cell_type": "markdown",
   "metadata": {},
   "source": [
    "\n",
    "TF-IDF model's performance is better than the Word2vec model because the number of data in each emotion class is not balanced and there are several classes that have a small number of data. The number of surprised emotions is a minority of data which has a large difference in the number of other emotions."
   ]
  },
  {
   "cell_type": "code",
   "execution_count": 12,
   "metadata": {},
   "outputs": [
    {
     "data": {
      "text/plain": [
       "((832, 3251), (208, 3251), (832,), (208,))"
      ]
     },
     "execution_count": 12,
     "metadata": {},
     "output_type": "execute_result"
    }
   ],
   "source": [
    "# Using TF-IDF model\n",
    "from sklearn.feature_extraction.text import TfidfVectorizer\n",
    "tfidf = TfidfVectorizer()\n",
    "X_tfidf = tfidf.fit_transform(df_copy_2['text']).toarray()\n",
    "y_tfidf = df_copy_2['sentiment']\n",
    "\n",
    "# Splitting into training testing sets\n",
    "from sklearn.model_selection import train_test_split\n",
    "X_train_tfidf, X_test_tfidf, y_train_tfidf, y_test_tfidf = train_test_split(X_tfidf, y_tfidf, test_size = 0.20, random_state = 0)\n",
    "\n",
    "X_train_tfidf.shape, X_test_tfidf.shape, y_train_tfidf.shape, y_test_tfidf.shape"
   ]
  },
  {
   "cell_type": "markdown",
   "metadata": {},
   "source": [
    "**GloVe (Global Vectors for Word Representation):**\n",
    "\n",
    "\n",
    "Representation: GloVe is an unsupervised learning algorithm for obtaining vector representations for words based on global word-word co-occurrence statistics from a corpus.<br>\n",
    "Vectorization: GloVe represents words as dense vectors in a continuous vector space. The vectors capture the semantic meaning and relationships between words.<br>\n",
    "Features: The vectors for words are learned from the corpus, capturing semantic relationships between words.<br>\n",
    "Advantages: Captures semantic relationships, word analogies, and context-based meanings; preserves more information about word semantics compared to BOW or TF-IDF.\n"
   ]
  },
  {
   "cell_type": "code",
   "execution_count": 47,
   "metadata": {},
   "outputs": [
    {
     "data": {
      "text/plain": [
       "((832, 25), (208, 25), (832,), (208,))"
      ]
     },
     "execution_count": 47,
     "metadata": {},
     "output_type": "execute_result"
    }
   ],
   "source": [
    "import gensim.downloader as api\n",
    "import numpy as np\n",
    "\n",
    "# Load GloVe model\n",
    "glove = api.load('glove-twitter-25')\n",
    "\n",
    "# Creating a list of vectors\n",
    "glove_list = []\n",
    "for text in df_copy_3['text']:\n",
    "    words = text.split()\n",
    "    valid_words = [word for word in words if word in glove.key_to_index]\n",
    "    if valid_words:\n",
    "        vectors = [glove.get_vector(word) for word in valid_words]\n",
    "        avg_vector = np.mean(vectors, axis=0)\n",
    "        glove_list.append(avg_vector)\n",
    "    else:\n",
    "        glove_list.append(np.zeros(25)) # append a vector of zeros if no words from the tweet are in the GloVe model\n",
    "        \n",
    "# Converting the list to an array\n",
    "glove_array = np.array(glove_list)\n",
    "glove_array.shape\n",
    "\n",
    "# Splitting the dataset into training and testing sets\n",
    "from sklearn.model_selection import train_test_split\n",
    "X_train_glove, X_test_glove, y_train_glove, y_test_glove = train_test_split(glove_array, df_copy_3['sentiment'], test_size = 0.20, random_state = 0)\n",
    "X_train_glove.shape, X_test_glove.shape, y_train_glove.shape, y_test_glove.shape"
   ]
  },
  {
   "cell_type": "markdown",
   "metadata": {},
   "source": [
    "**Training SVM's on all feature extractions**\n",
    "\n",
    "Text data are ideally suited for SVM classification because of the sparse nature of text, in which few features are irrelevant, but they tend to be correlated with one another and generally organized into linearly separable categories.<br> \n",
    "SVM can construct a nonlinear decision surface in the original feature space by mapping the data instances non-linearly to an inner product space where the classes can be separated linearly with a hyperplane"
   ]
  },
  {
   "cell_type": "markdown",
   "metadata": {},
   "source": [
    "SVM and NN can be used also for the classification of personal relationships in biographical texts as presented by van de Camp and van den Bosch.<br> \n",
    "They marked relations between two persons (one being the topic of a biography, the other being mentioned in this biography) as positive, neutral, or unknown.<br>\n",
    "Their case study was based on historical biographical information describing people in a particular domain, region and time frame.<br>\n",
    "They showed that their classifiers were able to label these relations above a majority class baseline score. They found that a training set containing relations, surrounding multiple persons, produces more desirable results than a set that focuses on one specific entity. They proved that SVM and one layer NN (1-NN) algorithm achieve the highest scores."
   ]
  },
  {
   "cell_type": "code",
   "execution_count": 48,
   "metadata": {},
   "outputs": [
    {
     "name": "stdout",
     "output_type": "stream",
     "text": [
      "[[39  9  4]\n",
      " [ 9 33 27]\n",
      " [10 15 62]]\n",
      "              precision    recall  f1-score   support\n",
      "\n",
      "           0       0.67      0.75      0.71        52\n",
      "           1       0.58      0.48      0.52        69\n",
      "           2       0.67      0.71      0.69        87\n",
      "\n",
      "    accuracy                           0.64       208\n",
      "   macro avg       0.64      0.65      0.64       208\n",
      "weighted avg       0.64      0.64      0.64       208\n",
      "\n"
     ]
    }
   ],
   "source": [
    "# SVM on bag of words\n",
    "from sklearn.svm import SVC\n",
    "classifier = SVC(kernel = 'linear', random_state = 0)\n",
    "classifier.fit(X_train_bow, y_train_bow)\n",
    "\n",
    "# Predicting the Test set results\n",
    "y_pred_bow = classifier.predict(X_test_bow)\n",
    "\n",
    "# Making the Confusion Matrix\n",
    "from sklearn.metrics import confusion_matrix\n",
    "cm_bow = confusion_matrix(y_test_bow, y_pred_bow)\n",
    "print(cm_bow)\n",
    "\n",
    "# Printing the classification report\n",
    "from sklearn.metrics import classification_report\n",
    "print(classification_report(y_test_bow, y_pred_bow))\n"
   ]
  },
  {
   "cell_type": "code",
   "execution_count": 13,
   "metadata": {},
   "outputs": [
    {
     "name": "stdout",
     "output_type": "stream",
     "text": [
      "[[34  8 10]\n",
      " [ 3 36 30]\n",
      " [ 2  7 78]]\n",
      "              precision    recall  f1-score   support\n",
      "\n",
      "           0       0.87      0.65      0.75        52\n",
      "           1       0.71      0.52      0.60        69\n",
      "           2       0.66      0.90      0.76        87\n",
      "\n",
      "    accuracy                           0.71       208\n",
      "   macro avg       0.75      0.69      0.70       208\n",
      "weighted avg       0.73      0.71      0.70       208\n",
      "\n"
     ]
    }
   ],
   "source": [
    "# Training the SVM model on the TF-IDF model\n",
    "from sklearn.svm import SVC\n",
    "svm = SVC(kernel = 'linear', random_state = 0)\n",
    "svm.fit(X_train_tfidf, y_train_tfidf)\n",
    "\n",
    "# Predicting the test set results\n",
    "y_pred_tfidf = svm.predict(X_test_tfidf)\n",
    "\n",
    "# Printing the confusion matrix\n",
    "from sklearn.metrics import confusion_matrix\n",
    "cm_tfidf = confusion_matrix(y_test_tfidf, y_pred_tfidf)\n",
    "print(cm_tfidf)\n",
    "\n",
    "# Printing the classification report\n",
    "from sklearn.metrics import classification_report\n",
    "print(classification_report(y_test_tfidf, y_pred_tfidf))\n",
    "\n",
    "# Saving the model\n",
    "import pickle\n",
    "filename = 'svm_tfidf.sav'\n",
    "pickle.dump(svm, open(filename, 'wb'))"
   ]
  },
  {
   "cell_type": "code",
   "execution_count": 50,
   "metadata": {},
   "outputs": [
    {
     "name": "stdout",
     "output_type": "stream",
     "text": [
      "[[16 16 20]\n",
      " [ 8 24 37]\n",
      " [ 4 13 70]]\n",
      "              precision    recall  f1-score   support\n",
      "\n",
      "           0       0.57      0.31      0.40        52\n",
      "           1       0.45      0.35      0.39        69\n",
      "           2       0.55      0.80      0.65        87\n",
      "\n",
      "    accuracy                           0.53       208\n",
      "   macro avg       0.53      0.49      0.48       208\n",
      "weighted avg       0.52      0.53      0.50       208\n",
      "\n"
     ]
    }
   ],
   "source": [
    "# Training the SVM model on the GloVe model\n",
    "from sklearn.svm import SVC\n",
    "svm = SVC()\n",
    "svm.fit(X_train_glove, y_train_glove)\n",
    "\n",
    "# Predicting the test set results\n",
    "y_pred_glove = svm.predict(X_test_glove)\n",
    "\n",
    "# Printing the confusion matrix\n",
    "from sklearn.metrics import confusion_matrix\n",
    "cm_glove = confusion_matrix(y_test_glove, y_pred_glove)\n",
    "print(cm_glove)\n",
    "\n",
    "# Printing the classification report\n",
    "from sklearn.metrics import classification_report\n",
    "print(classification_report(y_test_glove, y_pred_glove))\n",
    "\n"
   ]
  },
  {
   "cell_type": "code",
   "execution_count": 101,
   "metadata": {},
   "outputs": [
    {
     "data": {
      "image/png": "[encoded data removed]",
      "text/plain": [
       "<Figure size 1000x700 with 1 Axes>"
      ]
     },
     "metadata": {},
     "output_type": "display_data"
    }
   ],
   "source": [
    "# Creating plots for accuracy, precision, recall and f1-score\n",
    "import matplotlib.pyplot as plt\n",
    "import seaborn as sns\n",
    "\n",
    "# Accuracy of all models\n",
    "plt.figure(figsize=(10, 7))\n",
    "sns.set(font_scale=1.4) # for label size\n",
    "sns.barplot(x=['SVM (Bag of Words)', 'SVM (TF-IDF)', 'SVM (GloVe)'], y=[64, 71, 53])\n",
    "plt.ylabel('Accuracy')\n",
    "plt.xlabel('Model')\n",
    "plt.title('Accuracy of all models')\n",
    "plt.show()\n"
   ]
  },
  {
   "cell_type": "markdown",
   "metadata": {},
   "source": [
    "**It shows the superiority of TF-IDF model over other models** and number showed that it is better in Precision, Recall and F1-score as well for all the three classes"
   ]
  },
  {
   "cell_type": "markdown",
   "metadata": {},
   "source": [
    "**From Classification report we can claim that TF-IDF was able to extract more meaningfull data from the dataframe. Hence we save the model went to deploy it on on interface using Tkinter**"
   ]
  },
  {
   "cell_type": "markdown",
   "metadata": {},
   "source": [
    "**Deployment ans Interface**"
   ]
  },
  {
   "cell_type": "code",
   "execution_count": 14,
   "metadata": {},
   "outputs": [
    {
     "name": "stderr",
     "output_type": "stream",
     "text": [
      "2023-12-13 19:40:40.152 Python[89631:1516583] WARNING: Secure coding is not enabled for restorable state! Enable secure coding by implementing NSApplicationDelegate.applicationSupportsSecureRestorableState: and returning YES.\n"
     ]
    }
   ],
   "source": [
    "import tkinter as tk\n",
    "from tkinter import messagebox\n",
    "import pickle\n",
    "\n",
    "# Load the saved sentiment analysis model using pickle\n",
    "sim_model = pickle.load(open('svm_tfidf.sav', 'rb'))\n",
    "\n",
    "# Function to analyze the sentiment\n",
    "def get_sentiment():\n",
    "    # Get the user input\n",
    "    user_input = entry.get(\"1.0\", \"end-1c\")\n",
    "\n",
    "    # Check if the user has entered anything\n",
    "    if user_input == '':\n",
    "        messagebox.showerror(\"Error\", \"Please enter a post\")\n",
    "    else:\n",
    "        # Clean the user input\n",
    "        user_input = clean_text(user_input)\n",
    "        user_input = remove_stopwords(user_input)\n",
    "        user_input = tokenizer.tokenize(user_input.lower())\n",
    "        user_input = word_lemmatizer(user_input)\n",
    "        user_input = ' '.join(user_input)\n",
    "        user_input = remove_hashtag_emoji(user_input)\n",
    "        \n",
    "\n",
    "        # Predict the sentiment\n",
    "        sentiment = sim_model.predict(tfidf.transform([user_input]).toarray())\n",
    "\n",
    "        # Display the sentiment\n",
    "        if sentiment == 0:\n",
    "            messagebox.showinfo(\"Result\", \"Positive\")\n",
    "        elif sentiment == 1:\n",
    "            messagebox.showinfo(\"Result\", \"Negative\")\n",
    "        else:\n",
    "            messagebox.showinfo(\"Result\", \"Neutral\")\n",
    "\n",
    "        \n",
    "# Create a Tkinter window\n",
    "root = tk.Tk()\n",
    "root.title(\"Social Media Sentiment Analysis\")\n",
    "\n",
    "# Create a label\n",
    "label = tk.Label(root, text=\"Enter your social media post:\")\n",
    "label.pack()\n",
    "\n",
    "# Create an entry field\n",
    "entry = tk.Text(root, height=5, width=50)\n",
    "entry.pack()\n",
    "\n",
    "# Create a button to trigger sentiment analysis\n",
    "button = tk.Button(root, text=\"Analyze Sentiment\", command=get_sentiment)\n",
    "button.pack()\n",
    "\n",
    "# Run the Tkinter main loop\n",
    "root.mainloop()"
   ]
  }
 ],
 "metadata": {
  "kernelspec": {
   "display_name": "Python 3",
   "language": "python",
   "name": "python3"
  },
  "language_info": {
   "codemirror_mode": {
    "name": "ipython",
    "version": 3
   },
   "file_extension": ".py",
   "mimetype": "text/x-python",
   "name": "python",
   "nbconvert_exporter": "python",
   "pygments_lexer": "ipython3",
   "version": "3.11.6"
  }
 },
 "nbformat": 4,
 "nbformat_minor": 2
}
