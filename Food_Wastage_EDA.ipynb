{
 "cells": [
  {
   "cell_type": "markdown",
   "metadata": {},
   "source": [
    "# <div style=\"text-align:center;\">Case Studies in Artificial Intelligence</div>\n",
    "# <div style=\"text-align:center;\">Final Project Progress Report</div>\n",
    "### <div style=\"text-align:center;\">Group 1</div>\n",
    "\n",
    "This report will walk us through the exploratory data analysis.  The purpose of this analysis is to better understand the data and what factors go into determining how much food is wasted under a certain set of conditions.  We are also attempting to prove or dosprove our hypothesis that **enhancing food storage and preservation will lead to a reduction of food wastage**.\n",
    "\n",
    "First, we will install and load the required packages for this analysis."
   ]
  },
  {
   "cell_type": "code",
   "execution_count": 13,
   "metadata": {},
   "outputs": [
    {
     "name": "stdout",
     "output_type": "stream",
     "text": [
      "Requirement already satisfied: pandas in c:\\users\\tjmaz\\appdata\\local\\programs\\python\\python311\\lib\\site-packages (2.2.1)\n",
      "Requirement already satisfied: numpy<2,>=1.23.2 in c:\\users\\tjmaz\\appdata\\local\\programs\\python\\python311\\lib\\site-packages (from pandas) (1.26.4)\n",
      "Requirement already satisfied: python-dateutil>=2.8.2 in c:\\users\\tjmaz\\appdata\\roaming\\python\\python311\\site-packages (from pandas) (2.9.0.post0)\n",
      "Requirement already satisfied: pytz>=2020.1 in c:\\users\\tjmaz\\appdata\\local\\programs\\python\\python311\\lib\\site-packages (from pandas) (2024.1)\n",
      "Requirement already satisfied: tzdata>=2022.7 in c:\\users\\tjmaz\\appdata\\local\\programs\\python\\python311\\lib\\site-packages (from pandas) (2024.1)\n",
      "Requirement already satisfied: six>=1.5 in c:\\users\\tjmaz\\appdata\\roaming\\python\\python311\\site-packages (from python-dateutil>=2.8.2->pandas) (1.16.0)\n",
      "Note: you may need to restart the kernel to use updated packages.\n"
     ]
    },
    {
     "name": "stderr",
     "output_type": "stream",
     "text": [
      "\n",
      "[notice] A new release of pip is available: 23.2.1 -> 24.0\n",
      "[notice] To update, run: python.exe -m pip install --upgrade pip\n"
     ]
    }
   ],
   "source": [
    "pip install pandas"
   ]
  },
  {
   "cell_type": "code",
   "execution_count": 14,
   "metadata": {},
   "outputs": [
    {
     "name": "stdout",
     "output_type": "stream",
     "text": [
      "Requirement already satisfied: pyforest in c:\\users\\tjmaz\\appdata\\local\\programs\\python\\python311\\lib\\site-packages (1.1.0)\n",
      "Note: you may need to restart the kernel to use updated packages.\n"
     ]
    },
    {
     "name": "stderr",
     "output_type": "stream",
     "text": [
      "\n",
      "[notice] A new release of pip is available: 23.2.1 -> 24.0\n",
      "[notice] To update, run: python.exe -m pip install --upgrade pip\n"
     ]
    }
   ],
   "source": [
    "pip install pyforest"
   ]
  },
  {
   "cell_type": "code",
   "execution_count": 15,
   "metadata": {},
   "outputs": [
    {
     "name": "stdout",
     "output_type": "stream",
     "text": [
      "Requirement already satisfied: plotly in c:\\users\\tjmaz\\appdata\\local\\programs\\python\\python311\\lib\\site-packages (5.20.0)\n",
      "Requirement already satisfied: tenacity>=6.2.0 in c:\\users\\tjmaz\\appdata\\local\\programs\\python\\python311\\lib\\site-packages (from plotly) (8.2.3)\n",
      "Requirement already satisfied: packaging in c:\\users\\tjmaz\\appdata\\roaming\\python\\python311\\site-packages (from plotly) (24.0)\n",
      "Note: you may need to restart the kernel to use updated packages.\n"
     ]
    },
    {
     "name": "stderr",
     "output_type": "stream",
     "text": [
      "\n",
      "[notice] A new release of pip is available: 23.2.1 -> 24.0\n",
      "[notice] To update, run: python.exe -m pip install --upgrade pip\n"
     ]
    }
   ],
   "source": [
    "pip install plotly"
   ]
  },
  {
   "cell_type": "code",
   "execution_count": 16,
   "metadata": {},
   "outputs": [
    {
     "name": "stdout",
     "output_type": "stream",
     "text": [
      "Requirement already satisfied: scipy in c:\\users\\tjmaz\\appdata\\local\\programs\\python\\python311\\lib\\site-packages (1.13.0)\n",
      "Requirement already satisfied: numpy<2.3,>=1.22.4 in c:\\users\\tjmaz\\appdata\\local\\programs\\python\\python311\\lib\\site-packages (from scipy) (1.26.4)\n",
      "Note: you may need to restart the kernel to use updated packages.\n"
     ]
    },
    {
     "name": "stderr",
     "output_type": "stream",
     "text": [
      "\n",
      "[notice] A new release of pip is available: 23.2.1 -> 24.0\n",
      "[notice] To update, run: python.exe -m pip install --upgrade pip\n"
     ]
    }
   ],
   "source": [
    "pip install scipy"
   ]
  },
  {
   "cell_type": "code",
   "execution_count": 17,
   "metadata": {},
   "outputs": [
    {
     "name": "stdout",
     "output_type": "stream",
     "text": [
      "Requirement already satisfied: matplotlib in c:\\users\\tjmaz\\appdata\\local\\programs\\python\\python311\\lib\\site-packages (3.8.4)\n",
      "Requirement already satisfied: contourpy>=1.0.1 in c:\\users\\tjmaz\\appdata\\local\\programs\\python\\python311\\lib\\site-packages (from matplotlib) (1.2.1)\n",
      "Requirement already satisfied: cycler>=0.10 in c:\\users\\tjmaz\\appdata\\local\\programs\\python\\python311\\lib\\site-packages (from matplotlib) (0.12.1)\n",
      "Requirement already satisfied: fonttools>=4.22.0 in c:\\users\\tjmaz\\appdata\\local\\programs\\python\\python311\\lib\\site-packages (from matplotlib) (4.51.0)\n",
      "Requirement already satisfied: kiwisolver>=1.3.1 in c:\\users\\tjmaz\\appdata\\local\\programs\\python\\python311\\lib\\site-packages (from matplotlib) (1.4.5)\n",
      "Requirement already satisfied: numpy>=1.21 in c:\\users\\tjmaz\\appdata\\local\\programs\\python\\python311\\lib\\site-packages (from matplotlib) (1.26.4)\n",
      "Requirement already satisfied: packaging>=20.0 in c:\\users\\tjmaz\\appdata\\roaming\\python\\python311\\site-packages (from matplotlib) (24.0)\n",
      "Requirement already satisfied: pillow>=8 in c:\\users\\tjmaz\\appdata\\local\\programs\\python\\python311\\lib\\site-packages (from matplotlib) (10.3.0)\n",
      "Requirement already satisfied: pyparsing>=2.3.1 in c:\\users\\tjmaz\\appdata\\local\\programs\\python\\python311\\lib\\site-packages (from matplotlib) (3.1.2)\n",
      "Requirement already satisfied: python-dateutil>=2.7 in c:\\users\\tjmaz\\appdata\\roaming\\python\\python311\\site-packages (from matplotlib) (2.9.0.post0)\n",
      "Requirement already satisfied: six>=1.5 in c:\\users\\tjmaz\\appdata\\roaming\\python\\python311\\site-packages (from python-dateutil>=2.7->matplotlib) (1.16.0)\n",
      "Note: you may need to restart the kernel to use updated packages.\n"
     ]
    },
    {
     "name": "stderr",
     "output_type": "stream",
     "text": [
      "\n",
      "[notice] A new release of pip is available: 23.2.1 -> 24.0\n",
      "[notice] To update, run: python.exe -m pip install --upgrade pip\n"
     ]
    }
   ],
   "source": [
    "pip install matplotlib"
   ]
  },
  {
   "cell_type": "code",
   "execution_count": 18,
   "metadata": {},
   "outputs": [
    {
     "name": "stdout",
     "output_type": "stream",
     "text": [
      "Requirement already satisfied: nbformat in c:\\users\\tjmaz\\appdata\\local\\programs\\python\\python311\\lib\\site-packages (5.10.4)\n",
      "Requirement already satisfied: fastjsonschema>=2.15 in c:\\users\\tjmaz\\appdata\\local\\programs\\python\\python311\\lib\\site-packages (from nbformat) (2.19.1)\n",
      "Requirement already satisfied: jsonschema>=2.6 in c:\\users\\tjmaz\\appdata\\local\\programs\\python\\python311\\lib\\site-packages (from nbformat) (4.21.1)\n",
      "Requirement already satisfied: jupyter-core!=5.0.*,>=4.12 in c:\\users\\tjmaz\\appdata\\roaming\\python\\python311\\site-packages (from nbformat) (5.7.2)\n",
      "Requirement already satisfied: traitlets>=5.1 in c:\\users\\tjmaz\\appdata\\roaming\\python\\python311\\site-packages (from nbformat) (5.14.2)\n",
      "Requirement already satisfied: attrs>=22.2.0 in c:\\users\\tjmaz\\appdata\\local\\programs\\python\\python311\\lib\\site-packages (from jsonschema>=2.6->nbformat) (23.2.0)\n",
      "Requirement already satisfied: jsonschema-specifications>=2023.03.6 in c:\\users\\tjmaz\\appdata\\local\\programs\\python\\python311\\lib\\site-packages (from jsonschema>=2.6->nbformat) (2023.12.1)\n",
      "Requirement already satisfied: referencing>=0.28.4 in c:\\users\\tjmaz\\appdata\\local\\programs\\python\\python311\\lib\\site-packages (from jsonschema>=2.6->nbformat) (0.34.0)\n",
      "Requirement already satisfied: rpds-py>=0.7.1 in c:\\users\\tjmaz\\appdata\\local\\programs\\python\\python311\\lib\\site-packages (from jsonschema>=2.6->nbformat) (0.18.0)\n",
      "Requirement already satisfied: platformdirs>=2.5 in c:\\users\\tjmaz\\appdata\\roaming\\python\\python311\\site-packages (from jupyter-core!=5.0.*,>=4.12->nbformat) (4.2.0)\n",
      "Requirement already satisfied: pywin32>=300 in c:\\users\\tjmaz\\appdata\\roaming\\python\\python311\\site-packages (from jupyter-core!=5.0.*,>=4.12->nbformat) (306)\n",
      "Note: you may need to restart the kernel to use updated packages.\n"
     ]
    },
    {
     "name": "stderr",
     "output_type": "stream",
     "text": [
      "\n",
      "[notice] A new release of pip is available: 23.2.1 -> 24.0\n",
      "[notice] To update, run: python.exe -m pip install --upgrade pip\n"
     ]
    }
   ],
   "source": [
    "pip install --upgrade nbformat"
   ]
  },
  {
   "cell_type": "code",
   "execution_count": 19,
   "metadata": {},
   "outputs": [],
   "source": [
    "import pandas as pd\n",
    "import plotly.graph_objects as go\n",
    "from pyforest import *\n",
    "from scipy.stats import pearsonr, ttest_ind\n",
    "import matplotlib.pyplot as plt\n",
    "import warnings\n",
    "warnings.filterwarnings(\"ignore\")"
   ]
  },
  {
   "cell_type": "markdown",
   "metadata": {},
   "source": [
    "The following is a sample of the dataset that we will be using:"
   ]
  },
  {
   "cell_type": "code",
   "execution_count": 20,
   "metadata": {},
   "outputs": [
    {
     "data": {
      "application/javascript": "\n        if (window._pyforest_update_imports_cell) { window._pyforest_update_imports_cell('import pandas as pd\\nimport pickle'); }\n    ",
      "text/plain": [
       "<IPython.core.display.Javascript object>"
      ]
     },
     "metadata": {},
     "output_type": "display_data"
    },
    {
     "data": {
      "text/html": [
       "<div>\n",
       "<style scoped>\n",
       "    .dataframe tbody tr th:only-of-type {\n",
       "        vertical-align: middle;\n",
       "    }\n",
       "\n",
       "    .dataframe tbody tr th {\n",
       "        vertical-align: top;\n",
       "    }\n",
       "\n",
       "    .dataframe thead th {\n",
       "        text-align: right;\n",
       "    }\n",
       "</style>\n",
       "<table border=\"1\" class=\"dataframe\">\n",
       "  <thead>\n",
       "    <tr style=\"text-align: right;\">\n",
       "      <th></th>\n",
       "      <th>Type of Food</th>\n",
       "      <th>Number of Guests</th>\n",
       "      <th>Event Type</th>\n",
       "      <th>Quantity of Food</th>\n",
       "      <th>Storage Conditions</th>\n",
       "      <th>Purchase History</th>\n",
       "      <th>Seasonality</th>\n",
       "      <th>Preparation Method</th>\n",
       "      <th>Geographical Location</th>\n",
       "      <th>Pricing</th>\n",
       "      <th>Wastage Food Amount</th>\n",
       "    </tr>\n",
       "  </thead>\n",
       "  <tbody>\n",
       "    <tr>\n",
       "      <th>0</th>\n",
       "      <td>Meat</td>\n",
       "      <td>310</td>\n",
       "      <td>Corporate</td>\n",
       "      <td>450</td>\n",
       "      <td>Refrigerated</td>\n",
       "      <td>Regular</td>\n",
       "      <td>All Seasons</td>\n",
       "      <td>Buffet</td>\n",
       "      <td>Urban</td>\n",
       "      <td>Low</td>\n",
       "      <td>25</td>\n",
       "    </tr>\n",
       "    <tr>\n",
       "      <th>1</th>\n",
       "      <td>Meat</td>\n",
       "      <td>400</td>\n",
       "      <td>Birthday</td>\n",
       "      <td>500</td>\n",
       "      <td>Room Temperature</td>\n",
       "      <td>Regular</td>\n",
       "      <td>Winter</td>\n",
       "      <td>Buffet</td>\n",
       "      <td>Suburban</td>\n",
       "      <td>High</td>\n",
       "      <td>40</td>\n",
       "    </tr>\n",
       "    <tr>\n",
       "      <th>2</th>\n",
       "      <td>Vegetables</td>\n",
       "      <td>302</td>\n",
       "      <td>Birthday</td>\n",
       "      <td>371</td>\n",
       "      <td>Refrigerated</td>\n",
       "      <td>Regular</td>\n",
       "      <td>Summer</td>\n",
       "      <td>Buffet</td>\n",
       "      <td>Suburban</td>\n",
       "      <td>Low</td>\n",
       "      <td>27</td>\n",
       "    </tr>\n",
       "    <tr>\n",
       "      <th>3</th>\n",
       "      <td>Meat</td>\n",
       "      <td>491</td>\n",
       "      <td>Birthday</td>\n",
       "      <td>497</td>\n",
       "      <td>Refrigerated</td>\n",
       "      <td>Regular</td>\n",
       "      <td>All Seasons</td>\n",
       "      <td>Finger Food</td>\n",
       "      <td>Rural</td>\n",
       "      <td>High</td>\n",
       "      <td>32</td>\n",
       "    </tr>\n",
       "    <tr>\n",
       "      <th>4</th>\n",
       "      <td>Meat</td>\n",
       "      <td>300</td>\n",
       "      <td>Corporate</td>\n",
       "      <td>400</td>\n",
       "      <td>Refrigerated</td>\n",
       "      <td>Regular</td>\n",
       "      <td>Winter</td>\n",
       "      <td>Finger Food</td>\n",
       "      <td>Urban</td>\n",
       "      <td>Moderate</td>\n",
       "      <td>25</td>\n",
       "    </tr>\n",
       "  </tbody>\n",
       "</table>\n",
       "</div>"
      ],
      "text/plain": [
       "  Type of Food  Number of Guests Event Type  Quantity of Food  \\\n",
       "0         Meat               310  Corporate               450   \n",
       "1         Meat               400   Birthday               500   \n",
       "2   Vegetables               302   Birthday               371   \n",
       "3         Meat               491   Birthday               497   \n",
       "4         Meat               300  Corporate               400   \n",
       "\n",
       "  Storage Conditions Purchase History  Seasonality Preparation Method  \\\n",
       "0       Refrigerated          Regular  All Seasons             Buffet   \n",
       "1   Room Temperature          Regular       Winter             Buffet   \n",
       "2       Refrigerated          Regular       Summer             Buffet   \n",
       "3       Refrigerated          Regular  All Seasons        Finger Food   \n",
       "4       Refrigerated          Regular       Winter        Finger Food   \n",
       "\n",
       "  Geographical Location   Pricing  Wastage Food Amount  \n",
       "0                 Urban       Low                   25  \n",
       "1              Suburban      High                   40  \n",
       "2              Suburban       Low                   27  \n",
       "3                 Rural      High                   32  \n",
       "4                 Urban  Moderate                   25  "
      ]
     },
     "execution_count": 20,
     "metadata": {},
     "output_type": "execute_result"
    }
   ],
   "source": [
    "df_food = pd.read_csv('food_wastage_data.csv')\n",
    "df_food.head()"
   ]
  },
  {
   "cell_type": "markdown",
   "metadata": {},
   "source": [
    "## Pre-Processing and Exploratory Data Analysis\n",
    "\n",
    "We move on to exploring the data.  We will first take a quick check of if there are any NA values in the data and count how many unique values are in each feature (particularly the categorical features)."
   ]
  },
  {
   "cell_type": "code",
   "execution_count": 21,
   "metadata": {},
   "outputs": [
    {
     "data": {
      "text/plain": [
       "Type of Food             0\n",
       "Number of Guests         0\n",
       "Event Type               0\n",
       "Quantity of Food         0\n",
       "Storage Conditions       0\n",
       "Purchase History         0\n",
       "Seasonality              0\n",
       "Preparation Method       0\n",
       "Geographical Location    0\n",
       "Pricing                  0\n",
       "Wastage Food Amount      0\n",
       "dtype: int64"
      ]
     },
     "metadata": {},
     "output_type": "display_data"
    },
    {
     "data": {
      "text/plain": [
       "Type of Food              5\n",
       "Number of Guests         39\n",
       "Event Type                4\n",
       "Quantity of Food         30\n",
       "Storage Conditions        2\n",
       "Purchase History          2\n",
       "Seasonality               3\n",
       "Preparation Method        3\n",
       "Geographical Location     3\n",
       "Pricing                   3\n",
       "Wastage Food Amount      26\n",
       "dtype: int64"
      ]
     },
     "metadata": {},
     "output_type": "display_data"
    }
   ],
   "source": [
    "# Checking for missing values\n",
    "display(df_food.isnull().sum())\n",
    "\n",
    "# Unique values in the columns\n",
    "display(df_food.nunique())"
   ]
  },
  {
   "cell_type": "markdown",
   "metadata": {},
   "source": [
    "We will also create a new feature called Wastage Percentage, which represents the amount of food wasted out of the amount of food observed."
   ]
  },
  {
   "cell_type": "code",
   "execution_count": 22,
   "metadata": {},
   "outputs": [
    {
     "data": {
      "text/html": [
       "<div>\n",
       "<style scoped>\n",
       "    .dataframe tbody tr th:only-of-type {\n",
       "        vertical-align: middle;\n",
       "    }\n",
       "\n",
       "    .dataframe tbody tr th {\n",
       "        vertical-align: top;\n",
       "    }\n",
       "\n",
       "    .dataframe thead th {\n",
       "        text-align: right;\n",
       "    }\n",
       "</style>\n",
       "<table border=\"1\" class=\"dataframe\">\n",
       "  <thead>\n",
       "    <tr style=\"text-align: right;\">\n",
       "      <th></th>\n",
       "      <th>Type of Food</th>\n",
       "      <th>Number of Guests</th>\n",
       "      <th>Event Type</th>\n",
       "      <th>Quantity of Food</th>\n",
       "      <th>Storage Conditions</th>\n",
       "      <th>Purchase History</th>\n",
       "      <th>Seasonality</th>\n",
       "      <th>Preparation Method</th>\n",
       "      <th>Geographical Location</th>\n",
       "      <th>Pricing</th>\n",
       "      <th>Wastage Food Amount</th>\n",
       "      <th>Wastage Percentage</th>\n",
       "    </tr>\n",
       "  </thead>\n",
       "  <tbody>\n",
       "    <tr>\n",
       "      <th>0</th>\n",
       "      <td>Meat</td>\n",
       "      <td>310</td>\n",
       "      <td>Corporate</td>\n",
       "      <td>450</td>\n",
       "      <td>Refrigerated</td>\n",
       "      <td>Regular</td>\n",
       "      <td>All Seasons</td>\n",
       "      <td>Buffet</td>\n",
       "      <td>Urban</td>\n",
       "      <td>Low</td>\n",
       "      <td>25</td>\n",
       "      <td>5.555556</td>\n",
       "    </tr>\n",
       "    <tr>\n",
       "      <th>1</th>\n",
       "      <td>Meat</td>\n",
       "      <td>400</td>\n",
       "      <td>Birthday</td>\n",
       "      <td>500</td>\n",
       "      <td>Room Temperature</td>\n",
       "      <td>Regular</td>\n",
       "      <td>Winter</td>\n",
       "      <td>Buffet</td>\n",
       "      <td>Suburban</td>\n",
       "      <td>High</td>\n",
       "      <td>40</td>\n",
       "      <td>8.000000</td>\n",
       "    </tr>\n",
       "    <tr>\n",
       "      <th>2</th>\n",
       "      <td>Vegetables</td>\n",
       "      <td>302</td>\n",
       "      <td>Birthday</td>\n",
       "      <td>371</td>\n",
       "      <td>Refrigerated</td>\n",
       "      <td>Regular</td>\n",
       "      <td>Summer</td>\n",
       "      <td>Buffet</td>\n",
       "      <td>Suburban</td>\n",
       "      <td>Low</td>\n",
       "      <td>27</td>\n",
       "      <td>7.277628</td>\n",
       "    </tr>\n",
       "    <tr>\n",
       "      <th>3</th>\n",
       "      <td>Meat</td>\n",
       "      <td>491</td>\n",
       "      <td>Birthday</td>\n",
       "      <td>497</td>\n",
       "      <td>Refrigerated</td>\n",
       "      <td>Regular</td>\n",
       "      <td>All Seasons</td>\n",
       "      <td>Finger Food</td>\n",
       "      <td>Rural</td>\n",
       "      <td>High</td>\n",
       "      <td>32</td>\n",
       "      <td>6.438632</td>\n",
       "    </tr>\n",
       "    <tr>\n",
       "      <th>4</th>\n",
       "      <td>Meat</td>\n",
       "      <td>300</td>\n",
       "      <td>Corporate</td>\n",
       "      <td>400</td>\n",
       "      <td>Refrigerated</td>\n",
       "      <td>Regular</td>\n",
       "      <td>Winter</td>\n",
       "      <td>Finger Food</td>\n",
       "      <td>Urban</td>\n",
       "      <td>Moderate</td>\n",
       "      <td>25</td>\n",
       "      <td>6.250000</td>\n",
       "    </tr>\n",
       "  </tbody>\n",
       "</table>\n",
       "</div>"
      ],
      "text/plain": [
       "  Type of Food  Number of Guests Event Type  Quantity of Food  \\\n",
       "0         Meat               310  Corporate               450   \n",
       "1         Meat               400   Birthday               500   \n",
       "2   Vegetables               302   Birthday               371   \n",
       "3         Meat               491   Birthday               497   \n",
       "4         Meat               300  Corporate               400   \n",
       "\n",
       "  Storage Conditions Purchase History  Seasonality Preparation Method  \\\n",
       "0       Refrigerated          Regular  All Seasons             Buffet   \n",
       "1   Room Temperature          Regular       Winter             Buffet   \n",
       "2       Refrigerated          Regular       Summer             Buffet   \n",
       "3       Refrigerated          Regular  All Seasons        Finger Food   \n",
       "4       Refrigerated          Regular       Winter        Finger Food   \n",
       "\n",
       "  Geographical Location   Pricing  Wastage Food Amount  Wastage Percentage  \n",
       "0                 Urban       Low                   25            5.555556  \n",
       "1              Suburban      High                   40            8.000000  \n",
       "2              Suburban       Low                   27            7.277628  \n",
       "3                 Rural      High                   32            6.438632  \n",
       "4                 Urban  Moderate                   25            6.250000  "
      ]
     },
     "execution_count": 22,
     "metadata": {},
     "output_type": "execute_result"
    }
   ],
   "source": [
    "# Creating a new column for the total food wastage percentage\n",
    "df_food['Wastage Percentage'] = (df_food['Wastage Food Amount'] / df_food['Quantity of Food']) * 100\n",
    "\n",
    "df_food.head()"
   ]
  },
  {
   "cell_type": "markdown",
   "metadata": {},
   "source": [
    "Next, we want to visualize the data to better understand some of the relationships between the features and food wastage.  We start by plotting a histogram of food wastage itself."
   ]
  },
  {
   "cell_type": "code",
   "execution_count": 23,
   "metadata": {},
   "outputs": [
    {
     "data": {
      "image/png": "[encoded data removed]",
      "text/plain": [
       "<Figure size 640x480 with 1 Axes>"
      ]
     },
     "metadata": {},
     "output_type": "display_data"
    }
   ],
   "source": [
    "# Histogram of the Wastage Percentage   \n",
    "# plt.style.use('seaborn-whitegrid')\n",
    "plt.get_cmap('viridis')\n",
    "plt.hist(df_food['Wastage Percentage'])\n",
    "plt.xlabel('Wastage Percentage')\n",
    "plt.ylabel('Frequency')\n",
    "plt.title('Histogram of Wastage Percentage')\n",
    "plt.show()"
   ]
  },
  {
   "cell_type": "markdown",
   "metadata": {},
   "source": [
    "Immediately we can see that more focus should be on the restaurants having wastage between the percentage ranging from 5 to 10, since that is where most of the frequency is coming from.  Obviously it is also important to address restaurants with 10%+ as well, but given how infrequent they are we would have more of an impact addressing the more dense part of the distribution.\n",
    "\n",
    "Next, we will plot a bar chart that measures food wastage by food category."
   ]
  },
  {
   "cell_type": "code",
   "execution_count": 24,
   "metadata": {},
   "outputs": [
    {
     "data": {
      "image/png": "[encoded data removed]",
      "text/plain": [
       "<Figure size 1000x600 with 1 Axes>"
      ]
     },
     "metadata": {},
     "output_type": "display_data"
    },
    {
     "data": {
      "text/plain": [
       "Type of Food\n",
       "Meat              437\n",
       "Baked Goods       419\n",
       "Dairy Products    387\n",
       "Fruits            328\n",
       "Vegetables        211\n",
       "Name: count, dtype: int64"
      ]
     },
     "execution_count": 24,
     "metadata": {},
     "output_type": "execute_result"
    }
   ],
   "source": [
    "# Bar chart for the food category with wastage amount\n",
    "df_food['Type of Food'].value_counts().plot(kind='bar', figsize=(10, 6))\n",
    "plt.title('Average Food Wastage By category')\n",
    "plt.xlabel('Type of Food')\n",
    "plt.ylabel('Wastage Amount')\n",
    "plt.show()\n",
    "\n",
    "# Value counts for the food category\n",
    "df_food['Type of Food'].value_counts()"
   ]
  },
  {
   "cell_type": "markdown",
   "metadata": {},
   "source": [
    "Meat is the most wasted followed by Baked goods and Vegetables being the least wasted.  This makes sense since meats have the most potential to spoil.\n",
    "\n",
    "We move on to measuring the wastage amount by food pricing."
   ]
  },
  {
   "cell_type": "code",
   "execution_count": 25,
   "metadata": {},
   "outputs": [
    {
     "data": {
      "application/javascript": "\n        if (window._pyforest_update_imports_cell) { window._pyforest_update_imports_cell('import plotly.graph_objs as go\\nimport pandas as pd\\nimport pickle'); }\n    ",
      "text/plain": [
       "<IPython.core.display.Javascript object>"
      ]
     },
     "metadata": {},
     "output_type": "display_data"
    },
    {
     "data": {
      "application/javascript": "\n        if (window._pyforest_update_imports_cell) { window._pyforest_update_imports_cell('import plotly.graph_objs as go\\nimport pandas as pd\\nimport pickle'); }\n    ",
      "text/plain": [
       "<IPython.core.display.Javascript object>"
      ]
     },
     "metadata": {},
     "output_type": "display_data"
    },
    {
     "data": {
      "application/vnd.plotly.v1+json": {
       "config": {
        "plotlyServerURL": "https://plot.ly"
       },
       "data": [
        {
         "insidetextorientation": "radial",
         "labels": [
          "High",
          "Moderate",
          "Low"
         ],
         "pull": [
          0.2,
          0,
          0
         ],
         "textinfo": "percent+label",
         "type": "pie",
         "values": [
          674,
          673,
          435
         ]
        }
       ],
       "layout": {
        "template": {
         "data": {
          "bar": [
           {
            "error_x": {
             "color": "#2a3f5f"
            },
            "error_y": {
             "color": "#2a3f5f"
            },
            "marker": {
             "line": {
              "color": "#E5ECF6",
              "width": 0.5
             },
             "pattern": {
              "fillmode": "overlay",
              "size": 10,
              "solidity": 0.2
             }
            },
            "type": "bar"
           }
          ],
          "barpolar": [
           {
            "marker": {
             "line": {
              "color": "#E5ECF6",
              "width": 0.5
             },
             "pattern": {
              "fillmode": "overlay",
              "size": 10,
              "solidity": 0.2
             }
            },
            "type": "barpolar"
           }
          ],
          "carpet": [
           {
            "aaxis": {
             "endlinecolor": "#2a3f5f",
             "gridcolor": "white",
             "linecolor": "white",
             "minorgridcolor": "white",
             "startlinecolor": "#2a3f5f"
            },
            "baxis": {
             "endlinecolor": "#2a3f5f",
             "gridcolor": "white",
             "linecolor": "white",
             "minorgridcolor": "white",
             "startlinecolor": "#2a3f5f"
            },
            "type": "carpet"
           }
          ],
          "choropleth": [
           {
            "colorbar": {
             "outlinewidth": 0,
             "ticks": ""
            },
            "type": "choropleth"
           }
          ],
          "contour": [
           {
            "colorbar": {
             "outlinewidth": 0,
             "ticks": ""
            },
            "colorscale": [
             [
              0,
              "#0d0887"
             ],
             [
              0.1111111111111111,
              "#46039f"
             ],
             [
              0.2222222222222222,
              "#7201a8"
             ],
             [
              0.3333333333333333,
              "#9c179e"
             ],
             [
              0.4444444444444444,
              "#bd3786"
             ],
             [
              0.5555555555555556,
              "#d8576b"
             ],
             [
              0.6666666666666666,
              "#ed7953"
             ],
             [
              0.7777777777777778,
              "#fb9f3a"
             ],
             [
              0.8888888888888888,
              "#fdca26"
             ],
             [
              1,
              "#f0f921"
             ]
            ],
            "type": "contour"
           }
          ],
          "contourcarpet": [
           {
            "colorbar": {
             "outlinewidth": 0,
             "ticks": ""
            },
            "type": "contourcarpet"
           }
          ],
          "heatmap": [
           {
            "colorbar": {
             "outlinewidth": 0,
             "ticks": ""
            },
            "colorscale": [
             [
              0,
              "#0d0887"
             ],
             [
              0.1111111111111111,
              "#46039f"
             ],
             [
              0.2222222222222222,
              "#7201a8"
             ],
             [
              0.3333333333333333,
              "#9c179e"
             ],
             [
              0.4444444444444444,
              "#bd3786"
             ],
             [
              0.5555555555555556,
              "#d8576b"
             ],
             [
              0.6666666666666666,
              "#ed7953"
             ],
             [
              0.7777777777777778,
              "#fb9f3a"
             ],
             [
              0.8888888888888888,
              "#fdca26"
             ],
             [
              1,
              "#f0f921"
             ]
            ],
            "type": "heatmap"
           }
          ],
          "heatmapgl": [
           {
            "colorbar": {
             "outlinewidth": 0,
             "ticks": ""
            },
            "colorscale": [
             [
              0,
              "#0d0887"
             ],
             [
              0.1111111111111111,
              "#46039f"
             ],
             [
              0.2222222222222222,
              "#7201a8"
             ],
             [
              0.3333333333333333,
              "#9c179e"
             ],
             [
              0.4444444444444444,
              "#bd3786"
             ],
             [
              0.5555555555555556,
              "#d8576b"
             ],
             [
              0.6666666666666666,
              "#ed7953"
             ],
             [
              0.7777777777777778,
              "#fb9f3a"
             ],
             [
              0.8888888888888888,
              "#fdca26"
             ],
             [
              1,
              "#f0f921"
             ]
            ],
            "type": "heatmapgl"
           }
          ],
          "histogram": [
           {
            "marker": {
             "pattern": {
              "fillmode": "overlay",
              "size": 10,
              "solidity": 0.2
             }
            },
            "type": "histogram"
           }
          ],
          "histogram2d": [
           {
            "colorbar": {
             "outlinewidth": 0,
             "ticks": ""
            },
            "colorscale": [
             [
              0,
              "#0d0887"
             ],
             [
              0.1111111111111111,
              "#46039f"
             ],
             [
              0.2222222222222222,
              "#7201a8"
             ],
             [
              0.3333333333333333,
              "#9c179e"
             ],
             [
              0.4444444444444444,
              "#bd3786"
             ],
             [
              0.5555555555555556,
              "#d8576b"
             ],
             [
              0.6666666666666666,
              "#ed7953"
             ],
             [
              0.7777777777777778,
              "#fb9f3a"
             ],
             [
              0.8888888888888888,
              "#fdca26"
             ],
             [
              1,
              "#f0f921"
             ]
            ],
            "type": "histogram2d"
           }
          ],
          "histogram2dcontour": [
           {
            "colorbar": {
             "outlinewidth": 0,
             "ticks": ""
            },
            "colorscale": [
             [
              0,
              "#0d0887"
             ],
             [
              0.1111111111111111,
              "#46039f"
             ],
             [
              0.2222222222222222,
              "#7201a8"
             ],
             [
              0.3333333333333333,
              "#9c179e"
             ],
             [
              0.4444444444444444,
              "#bd3786"
             ],
             [
              0.5555555555555556,
              "#d8576b"
             ],
             [
              0.6666666666666666,
              "#ed7953"
             ],
             [
              0.7777777777777778,
              "#fb9f3a"
             ],
             [
              0.8888888888888888,
              "#fdca26"
             ],
             [
              1,
              "#f0f921"
             ]
            ],
            "type": "histogram2dcontour"
           }
          ],
          "mesh3d": [
           {
            "colorbar": {
             "outlinewidth": 0,
             "ticks": ""
            },
            "type": "mesh3d"
           }
          ],
          "parcoords": [
           {
            "line": {
             "colorbar": {
              "outlinewidth": 0,
              "ticks": ""
             }
            },
            "type": "parcoords"
           }
          ],
          "pie": [
           {
            "automargin": true,
            "type": "pie"
           }
          ],
          "scatter": [
           {
            "fillpattern": {
             "fillmode": "overlay",
             "size": 10,
             "solidity": 0.2
            },
            "type": "scatter"
           }
          ],
          "scatter3d": [
           {
            "line": {
             "colorbar": {
              "outlinewidth": 0,
              "ticks": ""
             }
            },
            "marker": {
             "colorbar": {
              "outlinewidth": 0,
              "ticks": ""
             }
            },
            "type": "scatter3d"
           }
          ],
          "scattercarpet": [
           {
            "marker": {
             "colorbar": {
              "outlinewidth": 0,
              "ticks": ""
             }
            },
            "type": "scattercarpet"
           }
          ],
          "scattergeo": [
           {
            "marker": {
             "colorbar": {
              "outlinewidth": 0,
              "ticks": ""
             }
            },
            "type": "scattergeo"
           }
          ],
          "scattergl": [
           {
            "marker": {
             "colorbar": {
              "outlinewidth": 0,
              "ticks": ""
             }
            },
            "type": "scattergl"
           }
          ],
          "scattermapbox": [
           {
            "marker": {
             "colorbar": {
              "outlinewidth": 0,
              "ticks": ""
             }
            },
            "type": "scattermapbox"
           }
          ],
          "scatterpolar": [
           {
            "marker": {
             "colorbar": {
              "outlinewidth": 0,
              "ticks": ""
             }
            },
            "type": "scatterpolar"
           }
          ],
          "scatterpolargl": [
           {
            "marker": {
             "colorbar": {
              "outlinewidth": 0,
              "ticks": ""
             }
            },
            "type": "scatterpolargl"
           }
          ],
          "scatterternary": [
           {
            "marker": {
             "colorbar": {
              "outlinewidth": 0,
              "ticks": ""
             }
            },
            "type": "scatterternary"
           }
          ],
          "surface": [
           {
            "colorbar": {
             "outlinewidth": 0,
             "ticks": ""
            },
            "colorscale": [
             [
              0,
              "#0d0887"
             ],
             [
              0.1111111111111111,
              "#46039f"
             ],
             [
              0.2222222222222222,
              "#7201a8"
             ],
             [
              0.3333333333333333,
              "#9c179e"
             ],
             [
              0.4444444444444444,
              "#bd3786"
             ],
             [
              0.5555555555555556,
              "#d8576b"
             ],
             [
              0.6666666666666666,
              "#ed7953"
             ],
             [
              0.7777777777777778,
              "#fb9f3a"
             ],
             [
              0.8888888888888888,
              "#fdca26"
             ],
             [
              1,
              "#f0f921"
             ]
            ],
            "type": "surface"
           }
          ],
          "table": [
           {
            "cells": {
             "fill": {
              "color": "#EBF0F8"
             },
             "line": {
              "color": "white"
             }
            },
            "header": {
             "fill": {
              "color": "#C8D4E3"
             },
             "line": {
              "color": "white"
             }
            },
            "type": "table"
           }
          ]
         },
         "layout": {
          "annotationdefaults": {
           "arrowcolor": "#2a3f5f",
           "arrowhead": 0,
           "arrowwidth": 1
          },
          "autotypenumbers": "strict",
          "coloraxis": {
           "colorbar": {
            "outlinewidth": 0,
            "ticks": ""
           }
          },
          "colorscale": {
           "diverging": [
            [
             0,
             "#8e0152"
            ],
            [
             0.1,
             "#c51b7d"
            ],
            [
             0.2,
             "#de77ae"
            ],
            [
             0.3,
             "#f1b6da"
            ],
            [
             0.4,
             "#fde0ef"
            ],
            [
             0.5,
             "#f7f7f7"
            ],
            [
             0.6,
             "#e6f5d0"
            ],
            [
             0.7,
             "#b8e186"
            ],
            [
             0.8,
             "#7fbc41"
            ],
            [
             0.9,
             "#4d9221"
            ],
            [
             1,
             "#276419"
            ]
           ],
           "sequential": [
            [
             0,
             "#0d0887"
            ],
            [
             0.1111111111111111,
             "#46039f"
            ],
            [
             0.2222222222222222,
             "#7201a8"
            ],
            [
             0.3333333333333333,
             "#9c179e"
            ],
            [
             0.4444444444444444,
             "#bd3786"
            ],
            [
             0.5555555555555556,
             "#d8576b"
            ],
            [
             0.6666666666666666,
             "#ed7953"
            ],
            [
             0.7777777777777778,
             "#fb9f3a"
            ],
            [
             0.8888888888888888,
             "#fdca26"
            ],
            [
             1,
             "#f0f921"
            ]
           ],
           "sequentialminus": [
            [
             0,
             "#0d0887"
            ],
            [
             0.1111111111111111,
             "#46039f"
            ],
            [
             0.2222222222222222,
             "#7201a8"
            ],
            [
             0.3333333333333333,
             "#9c179e"
            ],
            [
             0.4444444444444444,
             "#bd3786"
            ],
            [
             0.5555555555555556,
             "#d8576b"
            ],
            [
             0.6666666666666666,
             "#ed7953"
            ],
            [
             0.7777777777777778,
             "#fb9f3a"
            ],
            [
             0.8888888888888888,
             "#fdca26"
            ],
            [
             1,
             "#f0f921"
            ]
           ]
          },
          "colorway": [
           "#636efa",
           "#EF553B",
           "#00cc96",
           "#ab63fa",
           "#FFA15A",
           "#19d3f3",
           "#FF6692",
           "#B6E880",
           "#FF97FF",
           "#FECB52"
          ],
          "font": {
           "color": "#2a3f5f"
          },
          "geo": {
           "bgcolor": "white",
           "lakecolor": "white",
           "landcolor": "#E5ECF6",
           "showlakes": true,
           "showland": true,
           "subunitcolor": "white"
          },
          "hoverlabel": {
           "align": "left"
          },
          "hovermode": "closest",
          "mapbox": {
           "style": "light"
          },
          "paper_bgcolor": "white",
          "plot_bgcolor": "#E5ECF6",
          "polar": {
           "angularaxis": {
            "gridcolor": "white",
            "linecolor": "white",
            "ticks": ""
           },
           "bgcolor": "#E5ECF6",
           "radialaxis": {
            "gridcolor": "white",
            "linecolor": "white",
            "ticks": ""
           }
          },
          "scene": {
           "xaxis": {
            "backgroundcolor": "#E5ECF6",
            "gridcolor": "white",
            "gridwidth": 2,
            "linecolor": "white",
            "showbackground": true,
            "ticks": "",
            "zerolinecolor": "white"
           },
           "yaxis": {
            "backgroundcolor": "#E5ECF6",
            "gridcolor": "white",
            "gridwidth": 2,
            "linecolor": "white",
            "showbackground": true,
            "ticks": "",
            "zerolinecolor": "white"
           },
           "zaxis": {
            "backgroundcolor": "#E5ECF6",
            "gridcolor": "white",
            "gridwidth": 2,
            "linecolor": "white",
            "showbackground": true,
            "ticks": "",
            "zerolinecolor": "white"
           }
          },
          "shapedefaults": {
           "line": {
            "color": "#2a3f5f"
           }
          },
          "ternary": {
           "aaxis": {
            "gridcolor": "white",
            "linecolor": "white",
            "ticks": ""
           },
           "baxis": {
            "gridcolor": "white",
            "linecolor": "white",
            "ticks": ""
           },
           "bgcolor": "#E5ECF6",
           "caxis": {
            "gridcolor": "white",
            "linecolor": "white",
            "ticks": ""
           }
          },
          "title": {
           "x": 0.05
          },
          "xaxis": {
           "automargin": true,
           "gridcolor": "white",
           "linecolor": "white",
           "ticks": "",
           "title": {
            "standoff": 15
           },
           "zerolinecolor": "white",
           "zerolinewidth": 2
          },
          "yaxis": {
           "automargin": true,
           "gridcolor": "white",
           "linecolor": "white",
           "ticks": "",
           "title": {
            "standoff": 15
           },
           "zerolinecolor": "white",
           "zerolinewidth": 2
          }
         }
        },
        "title": {
         "font": {
          "size": 20
         },
         "text": "Wastage Amount by Food Pricing",
         "x": 0.5
        }
       }
      }
     },
     "metadata": {},
     "output_type": "display_data"
    }
   ],
   "source": [
    "# Pie chart for Pricing and wastage amount using plotly express\n",
    "labels = df_food['Pricing'].value_counts().index\n",
    "values = df_food['Pricing'].value_counts().values\n",
    "# theme template\n",
    "fig = go.Figure(data=[go.Pie(labels=labels, values=values,  textinfo='percent+label', insidetextorientation='radial', pull = [0.2, 0, 0])], layout_title_text='Wastage Amount by Food Pricing', layout_title_x=0.5, layout_title_font_size=20)\n",
    "fig.show()"
   ]
  },
  {
   "cell_type": "markdown",
   "metadata": {},
   "source": [
    "High Priced food tends to be wasted more then Moderate or low priced foods.\n",
    "\n",
    "Now we want to model how number of guests affects food wastage.  We do so with the following bar chart:"
   ]
  },
  {
   "cell_type": "code",
   "execution_count": 26,
   "metadata": {},
   "outputs": [
    {
     "data": {
      "application/javascript": "\n        if (window._pyforest_update_imports_cell) { window._pyforest_update_imports_cell('import plotly.graph_objs as go\\nimport pandas as pd\\nimport pickle'); }\n    ",
      "text/plain": [
       "<IPython.core.display.Javascript object>"
      ]
     },
     "metadata": {},
     "output_type": "display_data"
    },
    {
     "data": {
      "image/png": "[encoded data removed]",
      "text/plain": [
       "<Figure size 1000x600 with 1 Axes>"
      ]
     },
     "metadata": {},
     "output_type": "display_data"
    }
   ],
   "source": [
    "# Creating bins for the Number of Guests\n",
    "bins = [200, 250, 300, 350, 400, 450, 500]\n",
    "labels = ['200-250', '251-300', '301-350', '351-400', '401-450', '451-500']\n",
    "df_food['Number of Guests Range'] = pd.cut(df_food['Number of Guests'], bins=bins, labels=labels)\n",
    "\n",
    "# Bar chart for the number of guests range and wastage amount \n",
    "df_food['Number of Guests Range'].value_counts().plot(kind='bar', figsize=(10, 6), color='green', alpha=0.7, edgecolor='black', linewidth=2, linestyle='--') \n",
    "plt.style.use('dark_background')\n",
    "plt.title('Wastage Amount by Number of Guests Range')\n",
    "plt.xlabel('Number of Guests Range')\n",
    "plt.ylabel('Wastage Amount')\n",
    "plt.show()"
   ]
  },
  {
   "cell_type": "markdown",
   "metadata": {},
   "source": [
    "As number of guests increases, the amount of food wasted increases.  \n",
    "\n",
    "Next, we will look at how event type affects food wastage."
   ]
  },
  {
   "cell_type": "code",
   "execution_count": 27,
   "metadata": {},
   "outputs": [
    {
     "data": {
      "image/png": "[encoded data removed]",
      "text/plain": [
       "<Figure size 640x480 with 1 Axes>"
      ]
     },
     "metadata": {},
     "output_type": "display_data"
    }
   ],
   "source": [
    "# Line plot for Event type and wastage amount\n",
    "df_food.groupby('Event Type')['Wastage Food Amount'].sum().plot(kind='line', marker='o', color='red', linestyle='--', linewidth=2, markersize=10, markerfacecolor='white')\n",
    "plt.title('Wastage Amount by Event Type')\n",
    "plt.xlabel('Event Type')\n",
    "plt.ylabel('Wastage Amount')\n",
    "plt.show()"
   ]
  },
  {
   "cell_type": "markdown",
   "metadata": {},
   "source": [
    "Birthdays Tends to have the least amount of food wastage whereas corporate events contributes to maximum amount of food wastage.\n",
    "\n",
    "Lastly, we will look at how geographical conditions affects food wastage."
   ]
  },
  {
   "cell_type": "code",
   "execution_count": 28,
   "metadata": {},
   "outputs": [
    {
     "ename": "ModuleNotFoundError",
     "evalue": "No module named 'seaborn'",
     "output_type": "error",
     "traceback": [
      "\u001b[1;31m---------------------------------------------------------------------------\u001b[0m",
      "\u001b[1;31mModuleNotFoundError\u001b[0m                       Traceback (most recent call last)",
      "Cell \u001b[1;32mIn[28], line 3\u001b[0m\n\u001b[0;32m      1\u001b[0m \u001b[38;5;66;03m# Box Plot for Geographical condition and wastage amount\u001b[39;00m\n\u001b[0;32m      2\u001b[0m plt\u001b[38;5;241m.\u001b[39mfigure(figsize\u001b[38;5;241m=\u001b[39m(\u001b[38;5;241m10\u001b[39m, \u001b[38;5;241m6\u001b[39m))\n\u001b[1;32m----> 3\u001b[0m \u001b[43msns\u001b[49m\u001b[38;5;241;43m.\u001b[39;49m\u001b[43mboxplot\u001b[49m(x\u001b[38;5;241m=\u001b[39m\u001b[38;5;124m'\u001b[39m\u001b[38;5;124mGeographical Location\u001b[39m\u001b[38;5;124m'\u001b[39m, y\u001b[38;5;241m=\u001b[39m\u001b[38;5;124m'\u001b[39m\u001b[38;5;124mWastage Food Amount\u001b[39m\u001b[38;5;124m'\u001b[39m, data\u001b[38;5;241m=\u001b[39mdf_food, palette\u001b[38;5;241m=\u001b[39m\u001b[38;5;124m'\u001b[39m\u001b[38;5;124mviridis\u001b[39m\u001b[38;5;124m'\u001b[39m)\n\u001b[0;32m      4\u001b[0m plt\u001b[38;5;241m.\u001b[39mtitle(\u001b[38;5;124m'\u001b[39m\u001b[38;5;124mWastage Amount by Geographical Location\u001b[39m\u001b[38;5;124m'\u001b[39m)\n\u001b[0;32m      5\u001b[0m plt\u001b[38;5;241m.\u001b[39mxlabel(\u001b[38;5;124m'\u001b[39m\u001b[38;5;124mGeographical Location\u001b[39m\u001b[38;5;124m'\u001b[39m)\n",
      "File \u001b[1;32mc:\\Users\\tjmaz\\AppData\\Local\\Programs\\Python\\Python311\\Lib\\site-packages\\pyforest\\_importable.py:70\u001b[0m, in \u001b[0;36mLazyImport.__getattr__\u001b[1;34m(self, attribute)\u001b[0m\n\u001b[0;32m     69\u001b[0m \u001b[38;5;28;01mdef\u001b[39;00m \u001b[38;5;21m__getattr__\u001b[39m(\u001b[38;5;28mself\u001b[39m, attribute):\n\u001b[1;32m---> 70\u001b[0m     \u001b[38;5;28;43mself\u001b[39;49m\u001b[38;5;241;43m.\u001b[39;49m\u001b[43m__maybe_import__\u001b[49m\u001b[43m(\u001b[49m\u001b[43m)\u001b[49m\n\u001b[0;32m     71\u001b[0m     \u001b[38;5;28;01mreturn\u001b[39;00m \u001b[38;5;28meval\u001b[39m(\u001b[38;5;124mf\u001b[39m\u001b[38;5;124m\"\u001b[39m\u001b[38;5;132;01m{\u001b[39;00m\u001b[38;5;28mself\u001b[39m\u001b[38;5;241m.\u001b[39m__imported_name__\u001b[38;5;132;01m}\u001b[39;00m\u001b[38;5;124m.\u001b[39m\u001b[38;5;132;01m{\u001b[39;00mattribute\u001b[38;5;132;01m}\u001b[39;00m\u001b[38;5;124m\"\u001b[39m)\n",
      "File \u001b[1;32mc:\\Users\\tjmaz\\AppData\\Local\\Programs\\Python\\Python311\\Lib\\site-packages\\pyforest\\_importable.py:37\u001b[0m, in \u001b[0;36mLazyImport.__maybe_import__\u001b[1;34m(self)\u001b[0m\n\u001b[0;32m     35\u001b[0m \u001b[38;5;28;01mdef\u001b[39;00m \u001b[38;5;21m__maybe_import__\u001b[39m(\u001b[38;5;28mself\u001b[39m):\n\u001b[0;32m     36\u001b[0m     \u001b[38;5;28mself\u001b[39m\u001b[38;5;241m.\u001b[39m__maybe_import_complementary_imports__()\n\u001b[1;32m---> 37\u001b[0m     exec(\u001b[38;5;28mself\u001b[39m\u001b[38;5;241m.\u001b[39m__import_statement__, \u001b[38;5;28mglobals\u001b[39m())\n\u001b[0;32m     38\u001b[0m     \u001b[38;5;66;03m# Attention: if the import fails, the next lines will not be reached\u001b[39;00m\n\u001b[0;32m     39\u001b[0m     \u001b[38;5;28mself\u001b[39m\u001b[38;5;241m.\u001b[39m__was_imported__ \u001b[38;5;241m=\u001b[39m \u001b[38;5;28;01mTrue\u001b[39;00m\n",
      "File \u001b[1;32m<string>:1\u001b[0m\n",
      "\u001b[1;31mModuleNotFoundError\u001b[0m: No module named 'seaborn'"
     ]
    },
    {
     "data": {
      "text/plain": [
       "<Figure size 1000x600 with 0 Axes>"
      ]
     },
     "metadata": {},
     "output_type": "display_data"
    }
   ],
   "source": [
    "# Box Plot for Geographical condition and wastage amount\n",
    "plt.figure(figsize=(10, 6))\n",
    "sns.boxplot(x='Geographical Location', y='Wastage Food Amount', data=df_food, palette='viridis')\n",
    "plt.title('Wastage Amount by Geographical Location')\n",
    "plt.xlabel('Geographical Location')\n",
    "plt.ylabel('Wastage Amount')\n",
    "plt.show()"
   ]
  },
  {
   "cell_type": "markdown",
   "metadata": {},
   "source": [
    "Rural tends to see a lit lower food wastage, but overall these box plots are very similar suggesting little difference in food wastage among geographical location."
   ]
  },
  {
   "cell_type": "markdown",
   "metadata": {},
   "source": [
    "## Statistical Tests\n",
    "\n",
    "Now that we have a solid understanding of or data, we will perform some statistical tests to determine what factors do and do not affect food wastage.  First, let's look at the correlation between the number of guests and food wastage amount.  In this case, the null hypothesis will be that there is no correlation between number of guests and food wastage amount."
   ]
  },
  {
   "cell_type": "code",
   "execution_count": null,
   "metadata": {},
   "outputs": [
    {
     "data": {
      "text/plain": [
       "(0.650420701205876, 7.552167205273713e-215)"
      ]
     },
     "execution_count": 153,
     "metadata": {},
     "output_type": "execute_result"
    }
   ],
   "source": [
    "correlation, p_value = pearsonr(df_food['Number of Guests'], df_food['Wastage Food Amount'])\n",
    "correlation, p_value"
   ]
  },
  {
   "cell_type": "markdown",
   "metadata": {},
   "source": [
    "The large value of correlation suggest that there is a strong correlation between Number of features. The small p-value suggests that we can reject the null hypothesis and claim that there is strong evidence of number of guests and food wastage being correlated.\n",
    "\n",
    "Next, let's look at some t-tests to compare food wastage amounts across different categories.  Now, the null hypothesis will be that there is no difference in food wastage between the compared variables."
   ]
  },
  {
   "cell_type": "code",
   "execution_count": null,
   "metadata": {},
   "outputs": [
    {
     "name": "stdout",
     "output_type": "stream",
     "text": [
      "p-value of food wastage between high pricing and low pricing: 6.83007347736536e-192\n",
      "p-value of food wastage between buffets and finger foods: 9.238928308579242e-25\n",
      "p-value of food wastage between buffets and sit-down dinners: 1.632058731429825e-07\n",
      "p-value of food wastage between sit-down dinners and finger foods: 1.437398698944767e-78\n"
     ]
    }
   ],
   "source": [
    "_, p_value = ttest_ind(df_food['Wastage Food Amount'][df_food['Pricing'] == 'High'],\n",
    "                       df_food['Wastage Food Amount'][df_food['Pricing'] == 'Low'])\n",
    "print(f'p-value of food wastage between high pricing and low pricing: {p_value}')\n",
    "_, p_value = ttest_ind(df_food['Wastage Food Amount'][df_food['Preparation Method'] == 'Buffet'],\n",
    "                       df_food['Wastage Food Amount'][df_food['Preparation Method'] == 'Finger Food'])\n",
    "print(f'p-value of food wastage between buffets and finger foods: {p_value}')\n",
    "_, p_value = ttest_ind(df_food['Wastage Food Amount'][df_food['Preparation Method'] == 'Buffet'],\n",
    "                       df_food['Wastage Food Amount'][df_food['Preparation Method'] == 'Sit-down Dinner'])\n",
    "print(f'p-value of food wastage between buffets and sit-down dinners: {p_value}')\n",
    "_, p_value = ttest_ind(df_food['Wastage Food Amount'][df_food['Preparation Method'] == 'Sit-down Dinner'],\n",
    "                       df_food['Wastage Food Amount'][df_food['Preparation Method'] == 'Finger Food'])\n",
    "print(f'p-value of food wastage between sit-down dinners and finger foods: {p_value}')"
   ]
  },
  {
   "cell_type": "markdown",
   "metadata": {},
   "source": [
    "Above, we calculated the p-values between all the options of pricing and the p-values between all the options in preparation method.  We can see that in all cases we reject the null hypothesis and claim that there is strong evidence that each factor compared above have statistically different food wastage amounts.\n",
    "\n",
    "Recall that our original hypothesis is that food wastage can be reduced with better storage conditions of food.  From the data, we can measure this by comparing the two storage conditions: refrigerated and room temperature.  We perform the t-test below:"
   ]
  },
  {
   "cell_type": "code",
   "execution_count": null,
   "metadata": {},
   "outputs": [
    {
     "name": "stdout",
     "output_type": "stream",
     "text": [
      "p-value of food wastage between refrigerated and room temperature: 0.20746003989947806\n"
     ]
    }
   ],
   "source": [
    "_, p_value = ttest_ind(df_food['Wastage Food Amount'][df_food['Storage Conditions'] == 'Refrigerated'],\n",
    "                       df_food['Wastage Food Amount'][df_food['Storage Conditions'] == 'Room Temperature'])\n",
    "print(f'p-value of food wastage between refrigerated and room temperature: {p_value}')"
   ]
  },
  {
   "cell_type": "markdown",
   "metadata": {},
   "source": [
    "Surprisingly, the p-value is too high for us to reject the null hypothesis that storage conditions affects food wastage.  \n",
    "\n",
    "To break this down further, we will look at how storage conditions affects food wastage amount for each type of food."
   ]
  },
  {
   "cell_type": "code",
   "execution_count": null,
   "metadata": {},
   "outputs": [
    {
     "name": "stdout",
     "output_type": "stream",
     "text": [
      "p-value of food wastage between refrigerated and room temperature for meats: 0.0009720370092083859\n",
      "p-value of food wastage between refrigerated and room temperature for baked goods: 0.24365751550770512\n",
      "p-value of food wastage between refrigerated and room temperature for dairy products: 0.38245314897621974\n",
      "p-value of food wastage between refrigerated and room temperature for fruits: 0.7210667691271535\n",
      "p-value of food wastage between refrigerated and room temperature for vegetables: 0.9529311863653461\n"
     ]
    }
   ],
   "source": [
    "_, p_value = ttest_ind(df_food['Wastage Food Amount'][df_food['Type of Food'] == 'Meat'][df_food['Storage Conditions'] == 'Refrigerated'],\n",
    "                       df_food['Wastage Food Amount'][df_food['Type of Food'] == 'Meat'][df_food['Storage Conditions'] == 'Room Temperature'])\n",
    "print(f'p-value of food wastage between refrigerated and room temperature for meats: {p_value}')\n",
    "\n",
    "_, p_value = ttest_ind(df_food['Wastage Food Amount'][df_food['Type of Food'] == 'Baked Goods'][df_food['Storage Conditions'] == 'Refrigerated'],\n",
    "                       df_food['Wastage Food Amount'][df_food['Type of Food'] == 'Baked Goods'][df_food['Storage Conditions'] == 'Room Temperature'])\n",
    "print(f'p-value of food wastage between refrigerated and room temperature for baked goods: {p_value}')\n",
    "\n",
    "_, p_value = ttest_ind(df_food['Wastage Food Amount'][df_food['Type of Food'] == 'Dairy Products'][df_food['Storage Conditions'] == 'Refrigerated'],\n",
    "                       df_food['Wastage Food Amount'][df_food['Type of Food'] == 'Dairy Products'][df_food['Storage Conditions'] == 'Room Temperature'])\n",
    "print(f'p-value of food wastage between refrigerated and room temperature for dairy products: {p_value}')\n",
    "\n",
    "_, p_value = ttest_ind(df_food['Wastage Food Amount'][df_food['Type of Food'] == 'Fruits'][df_food['Storage Conditions'] == 'Refrigerated'],\n",
    "                       df_food['Wastage Food Amount'][df_food['Type of Food'] == 'Fruits'][df_food['Storage Conditions'] == 'Room Temperature'])\n",
    "print(f'p-value of food wastage between refrigerated and room temperature for fruits: {p_value}')\n",
    "\n",
    "_, p_value = ttest_ind(df_food['Wastage Food Amount'][df_food['Type of Food'] == 'Vegetables'][df_food['Storage Conditions'] == 'Refrigerated'],\n",
    "                       df_food['Wastage Food Amount'][df_food['Type of Food'] == 'Vegetables'][df_food['Storage Conditions'] == 'Room Temperature'])\n",
    "print(f'p-value of food wastage between refrigerated and room temperature for vegetables: {p_value}')"
   ]
  },
  {
   "cell_type": "markdown",
   "metadata": {},
   "source": [
    "We can see that storage conditions matter when handling meats, but not so much when handling other food products.  Therefore, our original hypothesis is not totally far off.  Having better preservation systems does affect how much food is wasted, it just applies to meats the most."
   ]
  }
 ],
 "metadata": {
  "kernelspec": {
   "display_name": "Python 3",
   "language": "python",
   "name": "python3"
  },
  "language_info": {
   "codemirror_mode": {
    "name": "ipython",
    "version": 3
   },
   "file_extension": ".py",
   "mimetype": "text/x-python",
   "name": "python",
   "nbconvert_exporter": "python",
   "pygments_lexer": "ipython3",
   "version": "3.11.5"
  }
 },
 "nbformat": 4,
 "nbformat_minor": 2
}
